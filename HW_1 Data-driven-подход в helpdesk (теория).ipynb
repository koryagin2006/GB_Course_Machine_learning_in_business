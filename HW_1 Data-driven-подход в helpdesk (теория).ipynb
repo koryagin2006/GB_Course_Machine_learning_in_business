{
 "cells": [
  {
   "cell_type": "markdown",
   "metadata": {},
   "source": [
    "# Вебинар 1. Введение. Data-driven подход на примере задачи маршрутизации заявок в helpdesk\n",
    "Домашнее задание 1 (теоретическая часть)"
   ]
  },
  {
   "cell_type": "markdown",
   "metadata": {
    "toc": true
   },
   "source": [
    "<h1>Table of Contents<span class=\"tocSkip\"></span></h1>\n",
    "<div class=\"toc\"><ul class=\"toc-item\"><li><span><a href=\"#ML:\" data-toc-modified-id=\"ML:-1\"><span class=\"toc-item-num\">1&nbsp;&nbsp;</span>ML:</a></span><ul class=\"toc-item\"><li><ul class=\"toc-item\"><li><span><a href=\"#1.-вспомнить-базовые-алгоритмы-машинного-обучен3ия:-линейные-модели,-&quot;деревянные&quot;\" data-toc-modified-id=\"1.-вспомнить-базовые-алгоритмы-машинного-обучен3ия:-линейные-модели,-&quot;деревянные&quot;-1.0.1\"><span class=\"toc-item-num\">1.0.1&nbsp;&nbsp;</span>1. вспомнить базовые алгоритмы машинного обучен3ия: линейные модели, \"деревянные\"</a></span></li><li><span><a href=\"#2.-повторить-метрики-качества-в-задачах-классификации/регрессии.-(например,-понимать-что-такое-roc-auc-и-как-его-интерпретировать-и-т.д)\" data-toc-modified-id=\"2.-повторить-метрики-качества-в-задачах-классификации/регрессии.-(например,-понимать-что-такое-roc-auc-и-как-его-интерпретировать-и-т.д)-1.0.2\"><span class=\"toc-item-num\">1.0.2&nbsp;&nbsp;</span>2. повторить метрики качества в задачах классификации/регрессии. (например, понимать что такое roc auc и как его интерпретировать и т.д)</a></span></li><li><span><a href=\"#3.-вспомнить-из-каких-этапов-состоит-решение-ML-задачи-и-уметь-объяснить-каждый-из-этапов:-подготовка-данных,-feature-engineering,-modelling,-evaluation,-etc\" data-toc-modified-id=\"3.-вспомнить-из-каких-этапов-состоит-решение-ML-задачи-и-уметь-объяснить-каждый-из-этапов:-подготовка-данных,-feature-engineering,-modelling,-evaluation,-etc-1.0.3\"><span class=\"toc-item-num\">1.0.3&nbsp;&nbsp;</span>3. вспомнить из каких этапов состоит решение ML-задачи и уметь объяснить каждый из этапов: подготовка данных, feature engineering, modelling, evaluation, etc</a></span></li><li><span><a href=\"#4.-кроссвалидация\" data-toc-modified-id=\"4.-кроссвалидация-1.0.4\"><span class=\"toc-item-num\">1.0.4&nbsp;&nbsp;</span>4. кроссвалидация</a></span></li></ul></li></ul></li><li><span><a href=\"#Теория-вероятностей-и-статистика:\" data-toc-modified-id=\"Теория-вероятностей-и-статистика:-2\"><span class=\"toc-item-num\">2&nbsp;&nbsp;</span>Теория вероятностей и статистика:</a></span><ul class=\"toc-item\"><li><ul class=\"toc-item\"><li><span><a href=\"#1.-Генеральная-совокупность-и-выборка\" data-toc-modified-id=\"1.-Генеральная-совокупность-и-выборка-2.0.1\"><span class=\"toc-item-num\">2.0.1&nbsp;&nbsp;</span>1. Генеральная совокупность и выборка</a></span></li><li><span><a href=\"#2.-Базовые-статистики:-среднее,-медиана,-дисперсия\" data-toc-modified-id=\"2.-Базовые-статистики:-среднее,-медиана,-дисперсия-2.0.2\"><span class=\"toc-item-num\">2.0.2&nbsp;&nbsp;</span>2. Базовые статистики: среднее, медиана, дисперсия</a></span></li><li><span><a href=\"#3.-Распределения:-нормальное,-бернулли,-пуассона-и-т.д\" data-toc-modified-id=\"3.-Распределения:-нормальное,-бернулли,-пуассона-и-т.д-2.0.3\"><span class=\"toc-item-num\">2.0.3&nbsp;&nbsp;</span>3. Распределения: нормальное, бернулли, пуассона и т.д</a></span></li><li><span><a href=\"#4.-Нулевая-и-альтернативная-гипотезы\" data-toc-modified-id=\"4.-Нулевая-и-альтернативная-гипотезы-2.0.4\"><span class=\"toc-item-num\">2.0.4&nbsp;&nbsp;</span>4. Нулевая и альтернативная гипотезы</a></span></li><li><span><a href=\"#5.-статистические-тесты\" data-toc-modified-id=\"5.-статистические-тесты-2.0.5\"><span class=\"toc-item-num\">2.0.5&nbsp;&nbsp;</span>5. статистические тесты</a></span></li></ul></li></ul></li><li><span><a href=\"#Python:\" data-toc-modified-id=\"Python:-3\"><span class=\"toc-item-num\">3&nbsp;&nbsp;</span>Python:</a></span><ul class=\"toc-item\"><li><ul class=\"toc-item\"><li><span><a href=\"#1.-структуры-данных:-set,-list,-dict,-tuple,-etc\" data-toc-modified-id=\"1.-структуры-данных:-set,-list,-dict,-tuple,-etc-3.0.1\"><span class=\"toc-item-num\">3.0.1&nbsp;&nbsp;</span>1. структуры данных: set, list, dict, tuple, etc</a></span></li><li><span><a href=\"#2.-циклы,-условия\" data-toc-modified-id=\"2.-циклы,-условия-3.0.2\"><span class=\"toc-item-num\">3.0.2&nbsp;&nbsp;</span>2. циклы, условия</a></span></li><li><span><a href=\"#3.-numpy/pandas/sklearn\" data-toc-modified-id=\"3.-numpy/pandas/sklearn-3.0.3\"><span class=\"toc-item-num\">3.0.3&nbsp;&nbsp;</span>3. numpy/pandas/sklearn</a></span></li></ul></li></ul></li><li><span><a href=\"#Полезные-ссылки\" data-toc-modified-id=\"Полезные-ссылки-4\"><span class=\"toc-item-num\">4&nbsp;&nbsp;</span>Полезные ссылки</a></span></li></ul></div>"
   ]
  },
  {
   "cell_type": "markdown",
   "metadata": {},
   "source": [
    "Здесь предлагается то, что полезно знать и уметь для успешного прохождения курса (да и без курса полезно)"
   ]
  },
  {
   "cell_type": "markdown",
   "metadata": {},
   "source": [
    "## ML: "
   ]
  },
  {
   "cell_type": "markdown",
   "metadata": {},
   "source": [
    "#### 1. вспомнить базовые алгоритмы машинного обучен3ия: линейные модели, \"деревянные\""
   ]
  },
  {
   "cell_type": "markdown",
   "metadata": {},
   "source": [
    "#### 2. повторить метрики качества в задачах классификации/регрессии. (например, понимать что такое roc auc и как его интерпретировать и т.д)"
   ]
  },
  {
   "cell_type": "markdown",
   "metadata": {},
   "source": [
    "#### 3. вспомнить из каких этапов состоит решение ML-задачи и уметь объяснить каждый из этапов: подготовка данных, feature engineering, modelling, evaluation, etc"
   ]
  },
  {
   "cell_type": "markdown",
   "metadata": {},
   "source": [
    "#### 4. кроссвалидация"
   ]
  },
  {
   "cell_type": "markdown",
   "metadata": {},
   "source": [
    "## Теория вероятностей и статистика:"
   ]
  },
  {
   "cell_type": "markdown",
   "metadata": {},
   "source": [
    "#### 1. Генеральная совокупность и выборка"
   ]
  },
  {
   "cell_type": "markdown",
   "metadata": {},
   "source": [
    "#### 2. Базовые статистики: среднее, медиана, дисперсия"
   ]
  },
  {
   "cell_type": "markdown",
   "metadata": {},
   "source": [
    "#### 3. Распределения: нормальное, бернулли, пуассона и т.д"
   ]
  },
  {
   "cell_type": "markdown",
   "metadata": {},
   "source": [
    "#### 4. Нулевая и альтернативная гипотезы"
   ]
  },
  {
   "cell_type": "markdown",
   "metadata": {},
   "source": [
    "#### 5. статистические тесты"
   ]
  },
  {
   "cell_type": "markdown",
   "metadata": {},
   "source": [
    "## Python:"
   ]
  },
  {
   "cell_type": "markdown",
   "metadata": {},
   "source": [
    "#### 1. структуры данных: set, list, dict, tuple, etc"
   ]
  },
  {
   "cell_type": "markdown",
   "metadata": {},
   "source": [
    "#### 2. циклы, условия"
   ]
  },
  {
   "cell_type": "markdown",
   "metadata": {},
   "source": [
    "#### 3. numpy/pandas/sklearn"
   ]
  },
  {
   "cell_type": "markdown",
   "metadata": {},
   "source": [
    "## Полезные ссылки\n",
    "\n",
    "1. метрики качества - https://habr.com/ru/company/ods/blog/328372/\n",
    "2. roc auc - https://dyakonov.org/2017/07/28/auc-roc-площадь-под-кривой-ошибок/\n",
    "3. Основы статистики: просто о сложных формулах - https://habr.com/ru/company/stepic/blog/250527/\n",
    "4. Теория вероятностей в работе программиста (вебинар) - https://geekbrains.ru/events/129\n",
    "5. Туториал по машинному обучению (sklearn) - https://scikit-learn.org/stable/tutorial/basic/tutorial.html\n",
    "6. Туториал по github - https://guides.github.com/activities/hello-world/"
   ]
  },
  {
   "cell_type": "code",
   "execution_count": null,
   "metadata": {},
   "outputs": [],
   "source": []
  }
 ],
 "metadata": {
  "kernelspec": {
   "display_name": "Python 3",
   "language": "python",
   "name": "python3"
  },
  "language_info": {
   "codemirror_mode": {
    "name": "ipython",
    "version": 3
   },
   "file_extension": ".py",
   "mimetype": "text/x-python",
   "name": "python",
   "nbconvert_exporter": "python",
   "pygments_lexer": "ipython3",
   "version": "3.8.5"
  },
  "toc": {
   "base_numbering": 1,
   "nav_menu": {},
   "number_sections": true,
   "sideBar": true,
   "skip_h1_title": true,
   "title_cell": "Table of Contents",
   "title_sidebar": "Contents",
   "toc_cell": true,
   "toc_position": {},
   "toc_section_display": true,
   "toc_window_display": true
  }
 },
 "nbformat": 4,
 "nbformat_minor": 4
}
