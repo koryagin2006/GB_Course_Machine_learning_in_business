{
 "cells": [
  {
   "cell_type": "markdown",
   "metadata": {},
   "source": [
    "1. https://dyakonov.org/2017/07/28/auc-roc-площадь-под-кривой-ошибок/\n",
    "2. https://en.wikipedia.org/wiki/Receiver_operating_characteristic"
   ]
  },
  {
   "cell_type": "markdown",
   "metadata": {},
   "source": [
    "# Определение ССЗ"
   ]
  },
  {
   "cell_type": "markdown",
   "metadata": {},
   "source": [
    "## Описание"
   ]
  },
  {
   "cell_type": "markdown",
   "metadata": {},
   "source": [
    "ссылка на соревнование - https://mlbootcamp.ru/ru/round/12/sandbox/"
   ]
  },
  {
   "cell_type": "markdown",
   "metadata": {},
   "source": [
    "Датасет сформирован из 100.000 реальных клинических анализов, и в нём используются признаки, которые можно разбить на 3 группы:\n",
    "\n",
    "| Объективные признаки  | Результаты измерения                   | Субъективные признаки (0/1) |\n",
    "|-----------------------|----------------------------------------|-----------------------------|\n",
    "| Возраст (в днях)      | Артериальное давление верхнее и нижнее | Курение                     |\n",
    "| Рост                  | Холестерин                             | Употребление Алкоголя       |\n",
    "| Вес                   | Глюкоза                                | Физическая активность       |\n",
    "| Пол                   |                                        |                             |\n",
    "\n",
    "Все показатели даны на момент осмотра."
   ]
  },
  {
   "cell_type": "markdown",
   "metadata": {},
   "source": [
    "`target` - наличие сердечно-сосудистых заболеваний (ССЗ)"
   ]
  },
  {
   "cell_type": "markdown",
   "metadata": {},
   "source": [
    "#### Импорт библиотек"
   ]
  },
  {
   "cell_type": "code",
   "execution_count": 1,
   "metadata": {},
   "outputs": [],
   "source": [
    "import numpy as np\n",
    "import pandas as pd\n",
    "\n",
    "from sklearn.model_selection import cross_val_score, train_test_split\n",
    "from sklearn.pipeline import Pipeline, make_pipeline\n",
    "from sklearn.base import BaseEstimator, TransformerMixin\n",
    "from sklearn.preprocessing import StandardScaler\n",
    "\n",
    "from sklearn.metrics import precision_recall_curve, roc_curve, roc_auc_score, confusion_matrix"
   ]
  },
  {
   "cell_type": "markdown",
   "metadata": {},
   "source": [
    "#### Загрузка датасета"
   ]
  },
  {
   "cell_type": "markdown",
   "metadata": {},
   "source": [
    "Таргет - наличие сердечно-сосудистых заболеваний (ССЗ)"
   ]
  },
  {
   "cell_type": "code",
   "execution_count": 2,
   "metadata": {},
   "outputs": [
    {
     "data": {
      "text/html": [
       "<div>\n",
       "<style scoped>\n",
       "    .dataframe tbody tr th:only-of-type {\n",
       "        vertical-align: middle;\n",
       "    }\n",
       "\n",
       "    .dataframe tbody tr th {\n",
       "        vertical-align: top;\n",
       "    }\n",
       "\n",
       "    .dataframe thead th {\n",
       "        text-align: right;\n",
       "    }\n",
       "</style>\n",
       "<table border=\"1\" class=\"dataframe\">\n",
       "  <thead>\n",
       "    <tr style=\"text-align: right;\">\n",
       "      <th></th>\n",
       "      <th>age</th>\n",
       "      <th>gender</th>\n",
       "      <th>height</th>\n",
       "      <th>weight</th>\n",
       "      <th>ap_hi</th>\n",
       "      <th>ap_lo</th>\n",
       "      <th>smoke</th>\n",
       "      <th>alco</th>\n",
       "      <th>active</th>\n",
       "      <th>cardio</th>\n",
       "    </tr>\n",
       "  </thead>\n",
       "  <tbody>\n",
       "    <tr>\n",
       "      <th>0</th>\n",
       "      <td>18393</td>\n",
       "      <td>2</td>\n",
       "      <td>168</td>\n",
       "      <td>62.0</td>\n",
       "      <td>110</td>\n",
       "      <td>80</td>\n",
       "      <td>0</td>\n",
       "      <td>0</td>\n",
       "      <td>1</td>\n",
       "      <td>0</td>\n",
       "    </tr>\n",
       "    <tr>\n",
       "      <th>1</th>\n",
       "      <td>20228</td>\n",
       "      <td>1</td>\n",
       "      <td>156</td>\n",
       "      <td>85.0</td>\n",
       "      <td>140</td>\n",
       "      <td>90</td>\n",
       "      <td>0</td>\n",
       "      <td>0</td>\n",
       "      <td>1</td>\n",
       "      <td>1</td>\n",
       "    </tr>\n",
       "    <tr>\n",
       "      <th>2</th>\n",
       "      <td>18857</td>\n",
       "      <td>1</td>\n",
       "      <td>165</td>\n",
       "      <td>64.0</td>\n",
       "      <td>130</td>\n",
       "      <td>70</td>\n",
       "      <td>0</td>\n",
       "      <td>0</td>\n",
       "      <td>0</td>\n",
       "      <td>1</td>\n",
       "    </tr>\n",
       "  </tbody>\n",
       "</table>\n",
       "</div>"
      ],
      "text/plain": [
       "     age  gender  height  weight  ap_hi  ap_lo  smoke  alco  active  cardio\n",
       "0  18393       2     168    62.0    110     80      0     0       1       0\n",
       "1  20228       1     156    85.0    140     90      0     0       1       1\n",
       "2  18857       1     165    64.0    130     70      0     0       0       1"
      ]
     },
     "execution_count": 2,
     "metadata": {},
     "output_type": "execute_result"
    }
   ],
   "source": [
    "df = pd.read_csv('train_case2.csv', sep=';')\n",
    "# Удалим 2 столбца\n",
    "df = df.drop(['id', 'cholesterol', 'gluc'], axis=1)\n",
    "df.head(3)"
   ]
  },
  {
   "cell_type": "markdown",
   "metadata": {},
   "source": [
    "## Предобработка"
   ]
  },
  {
   "cell_type": "code",
   "execution_count": 6,
   "metadata": {},
   "outputs": [
    {
     "data": {
      "text/html": [
       "<div>\n",
       "<style scoped>\n",
       "    .dataframe tbody tr th:only-of-type {\n",
       "        vertical-align: middle;\n",
       "    }\n",
       "\n",
       "    .dataframe tbody tr th {\n",
       "        vertical-align: top;\n",
       "    }\n",
       "\n",
       "    .dataframe thead th {\n",
       "        text-align: right;\n",
       "    }\n",
       "</style>\n",
       "<table border=\"1\" class=\"dataframe\">\n",
       "  <thead>\n",
       "    <tr style=\"text-align: right;\">\n",
       "      <th></th>\n",
       "      <th>age</th>\n",
       "      <th>gender</th>\n",
       "      <th>height</th>\n",
       "      <th>weight</th>\n",
       "      <th>ap_hi</th>\n",
       "      <th>ap_lo</th>\n",
       "      <th>smoke</th>\n",
       "      <th>alco</th>\n",
       "      <th>active</th>\n",
       "      <th>cardio</th>\n",
       "    </tr>\n",
       "  </thead>\n",
       "  <tbody>\n",
       "    <tr>\n",
       "      <th>count</th>\n",
       "      <td>70000.000000</td>\n",
       "      <td>70000.000000</td>\n",
       "      <td>70000.000000</td>\n",
       "      <td>70000.000000</td>\n",
       "      <td>70000.000000</td>\n",
       "      <td>70000.000000</td>\n",
       "      <td>70000.000000</td>\n",
       "      <td>70000.000000</td>\n",
       "      <td>70000.000000</td>\n",
       "      <td>70000.000000</td>\n",
       "    </tr>\n",
       "    <tr>\n",
       "      <th>mean</th>\n",
       "      <td>19468.865814</td>\n",
       "      <td>1.349571</td>\n",
       "      <td>164.359229</td>\n",
       "      <td>74.205690</td>\n",
       "      <td>128.817286</td>\n",
       "      <td>96.630414</td>\n",
       "      <td>0.088129</td>\n",
       "      <td>0.053771</td>\n",
       "      <td>0.803729</td>\n",
       "      <td>0.499700</td>\n",
       "    </tr>\n",
       "    <tr>\n",
       "      <th>std</th>\n",
       "      <td>2467.251667</td>\n",
       "      <td>0.476838</td>\n",
       "      <td>8.210126</td>\n",
       "      <td>14.395757</td>\n",
       "      <td>154.011419</td>\n",
       "      <td>188.472530</td>\n",
       "      <td>0.283484</td>\n",
       "      <td>0.225568</td>\n",
       "      <td>0.397179</td>\n",
       "      <td>0.500003</td>\n",
       "    </tr>\n",
       "    <tr>\n",
       "      <th>min</th>\n",
       "      <td>10798.000000</td>\n",
       "      <td>1.000000</td>\n",
       "      <td>55.000000</td>\n",
       "      <td>10.000000</td>\n",
       "      <td>-150.000000</td>\n",
       "      <td>-70.000000</td>\n",
       "      <td>0.000000</td>\n",
       "      <td>0.000000</td>\n",
       "      <td>0.000000</td>\n",
       "      <td>0.000000</td>\n",
       "    </tr>\n",
       "    <tr>\n",
       "      <th>25%</th>\n",
       "      <td>17664.000000</td>\n",
       "      <td>1.000000</td>\n",
       "      <td>159.000000</td>\n",
       "      <td>65.000000</td>\n",
       "      <td>120.000000</td>\n",
       "      <td>80.000000</td>\n",
       "      <td>0.000000</td>\n",
       "      <td>0.000000</td>\n",
       "      <td>1.000000</td>\n",
       "      <td>0.000000</td>\n",
       "    </tr>\n",
       "    <tr>\n",
       "      <th>50%</th>\n",
       "      <td>19703.000000</td>\n",
       "      <td>1.000000</td>\n",
       "      <td>165.000000</td>\n",
       "      <td>72.000000</td>\n",
       "      <td>120.000000</td>\n",
       "      <td>80.000000</td>\n",
       "      <td>0.000000</td>\n",
       "      <td>0.000000</td>\n",
       "      <td>1.000000</td>\n",
       "      <td>0.000000</td>\n",
       "    </tr>\n",
       "    <tr>\n",
       "      <th>75%</th>\n",
       "      <td>21327.000000</td>\n",
       "      <td>2.000000</td>\n",
       "      <td>170.000000</td>\n",
       "      <td>82.000000</td>\n",
       "      <td>140.000000</td>\n",
       "      <td>90.000000</td>\n",
       "      <td>0.000000</td>\n",
       "      <td>0.000000</td>\n",
       "      <td>1.000000</td>\n",
       "      <td>1.000000</td>\n",
       "    </tr>\n",
       "    <tr>\n",
       "      <th>max</th>\n",
       "      <td>23713.000000</td>\n",
       "      <td>2.000000</td>\n",
       "      <td>250.000000</td>\n",
       "      <td>200.000000</td>\n",
       "      <td>16020.000000</td>\n",
       "      <td>11000.000000</td>\n",
       "      <td>1.000000</td>\n",
       "      <td>1.000000</td>\n",
       "      <td>1.000000</td>\n",
       "      <td>1.000000</td>\n",
       "    </tr>\n",
       "  </tbody>\n",
       "</table>\n",
       "</div>"
      ],
      "text/plain": [
       "                age        gender        height        weight         ap_hi  \\\n",
       "count  70000.000000  70000.000000  70000.000000  70000.000000  70000.000000   \n",
       "mean   19468.865814      1.349571    164.359229     74.205690    128.817286   \n",
       "std     2467.251667      0.476838      8.210126     14.395757    154.011419   \n",
       "min    10798.000000      1.000000     55.000000     10.000000   -150.000000   \n",
       "25%    17664.000000      1.000000    159.000000     65.000000    120.000000   \n",
       "50%    19703.000000      1.000000    165.000000     72.000000    120.000000   \n",
       "75%    21327.000000      2.000000    170.000000     82.000000    140.000000   \n",
       "max    23713.000000      2.000000    250.000000    200.000000  16020.000000   \n",
       "\n",
       "              ap_lo         smoke          alco        active        cardio  \n",
       "count  70000.000000  70000.000000  70000.000000  70000.000000  70000.000000  \n",
       "mean      96.630414      0.088129      0.053771      0.803729      0.499700  \n",
       "std      188.472530      0.283484      0.225568      0.397179      0.500003  \n",
       "min      -70.000000      0.000000      0.000000      0.000000      0.000000  \n",
       "25%       80.000000      0.000000      0.000000      1.000000      0.000000  \n",
       "50%       80.000000      0.000000      0.000000      1.000000      0.000000  \n",
       "75%       90.000000      0.000000      0.000000      1.000000      1.000000  \n",
       "max    11000.000000      1.000000      1.000000      1.000000      1.000000  "
      ]
     },
     "execution_count": 6,
     "metadata": {},
     "output_type": "execute_result"
    }
   ],
   "source": [
    "df.describe()"
   ]
  },
  {
   "cell_type": "markdown",
   "metadata": {},
   "source": [
    "#### Поиск пропусков"
   ]
  },
  {
   "cell_type": "code",
   "execution_count": 7,
   "metadata": {},
   "outputs": [
    {
     "data": {
      "text/html": [
       "<div>\n",
       "<style scoped>\n",
       "    .dataframe tbody tr th:only-of-type {\n",
       "        vertical-align: middle;\n",
       "    }\n",
       "\n",
       "    .dataframe tbody tr th {\n",
       "        vertical-align: top;\n",
       "    }\n",
       "\n",
       "    .dataframe thead th {\n",
       "        text-align: right;\n",
       "    }\n",
       "</style>\n",
       "<table border=\"1\" class=\"dataframe\">\n",
       "  <thead>\n",
       "    <tr style=\"text-align: right;\">\n",
       "      <th></th>\n",
       "      <th>age</th>\n",
       "      <th>gender</th>\n",
       "      <th>height</th>\n",
       "      <th>weight</th>\n",
       "      <th>ap_hi</th>\n",
       "      <th>ap_lo</th>\n",
       "      <th>smoke</th>\n",
       "      <th>alco</th>\n",
       "      <th>active</th>\n",
       "      <th>cardio</th>\n",
       "    </tr>\n",
       "  </thead>\n",
       "  <tbody>\n",
       "    <tr>\n",
       "      <th>0</th>\n",
       "      <td>0</td>\n",
       "      <td>0</td>\n",
       "      <td>0</td>\n",
       "      <td>0</td>\n",
       "      <td>0</td>\n",
       "      <td>0</td>\n",
       "      <td>0</td>\n",
       "      <td>0</td>\n",
       "      <td>0</td>\n",
       "      <td>0</td>\n",
       "    </tr>\n",
       "  </tbody>\n",
       "</table>\n",
       "</div>"
      ],
      "text/plain": [
       "   age  gender  height  weight  ap_hi  ap_lo  smoke  alco  active  cardio\n",
       "0    0       0       0       0      0      0      0     0       0       0"
      ]
     },
     "execution_count": 7,
     "metadata": {},
     "output_type": "execute_result"
    }
   ],
   "source": [
    "pd.DataFrame(df.isnull().sum()).T"
   ]
  },
  {
   "cell_type": "code",
   "execution_count": 8,
   "metadata": {},
   "outputs": [
    {
     "data": {
      "text/plain": [
       "count    70000.000000\n",
       "mean        53.339358\n",
       "std          6.759594\n",
       "min         29.583562\n",
       "25%         48.394521\n",
       "50%         53.980822\n",
       "75%         58.430137\n",
       "max         64.967123\n",
       "Name: age, dtype: float64"
      ]
     },
     "execution_count": 8,
     "metadata": {},
     "output_type": "execute_result"
    }
   ],
   "source": [
    "(df['age']/365).describe()"
   ]
  },
  {
   "cell_type": "markdown",
   "metadata": {},
   "source": [
    "#### Аномалии `height` -> замена на медиану"
   ]
  },
  {
   "cell_type": "code",
   "execution_count": 9,
   "metadata": {},
   "outputs": [],
   "source": [
    "df.loc[df['height'] > 220, 'height'] = df['height'].median()"
   ]
  },
  {
   "cell_type": "markdown",
   "metadata": {},
   "source": [
    "#### Аномалии `ap_hi`"
   ]
  },
  {
   "cell_type": "code",
   "execution_count": 10,
   "metadata": {},
   "outputs": [],
   "source": [
    "# замена знака\n",
    "df.loc[df['ap_hi'] <= 0, 'ap_hi'] = np.abs(df['ap_hi'])"
   ]
  },
  {
   "cell_type": "code",
   "execution_count": 11,
   "metadata": {},
   "outputs": [],
   "source": [
    "# уменьшение разрядов\n",
    "df.loc[(df['ap_hi'] > 500) & (df['ap_hi'] < 10000), 'ap_hi'] = df['ap_hi'] / 10"
   ]
  },
  {
   "cell_type": "code",
   "execution_count": 12,
   "metadata": {},
   "outputs": [],
   "source": [
    "# уменьшение разрядов\n",
    "df.loc[(df['ap_hi'] > 10000), 'ap_hi'] = df['ap_hi'] / 100"
   ]
  },
  {
   "cell_type": "code",
   "execution_count": 13,
   "metadata": {},
   "outputs": [],
   "source": [
    "# замена на медиану\n",
    "df.loc[(df['ap_hi'] > 250), 'ap_hi'] = df['ap_hi'].median()"
   ]
  },
  {
   "cell_type": "code",
   "execution_count": 14,
   "metadata": {},
   "outputs": [],
   "source": [
    "# увеличение разрядов\n",
    "df.loc[(df['ap_hi'] < 50), 'ap_hi'] = df['ap_hi'] * 10"
   ]
  },
  {
   "cell_type": "code",
   "execution_count": 15,
   "metadata": {},
   "outputs": [],
   "source": [
    "df.loc[(df['ap_hi'] < 50), 'ap_hi'] = df['ap_hi'] * 10"
   ]
  },
  {
   "cell_type": "code",
   "execution_count": 16,
   "metadata": {},
   "outputs": [
    {
     "data": {
      "text/plain": [
       "count    70000.000000\n",
       "mean       126.997107\n",
       "std         17.114820\n",
       "min         60.000000\n",
       "25%        120.000000\n",
       "50%        120.000000\n",
       "75%        140.000000\n",
       "max        240.000000\n",
       "Name: ap_hi, dtype: float64"
      ]
     },
     "execution_count": 16,
     "metadata": {},
     "output_type": "execute_result"
    }
   ],
   "source": [
    "df['ap_hi'].describe()"
   ]
  },
  {
   "cell_type": "markdown",
   "metadata": {},
   "source": [
    "#### Аномалия `ap_lo`"
   ]
  },
  {
   "cell_type": "code",
   "execution_count": 17,
   "metadata": {},
   "outputs": [],
   "source": [
    "#  -> замена знака\n",
    "df.loc[df['ap_lo'] < 0, 'ap_lo'] = np.abs(df['ap_lo'])"
   ]
  },
  {
   "cell_type": "code",
   "execution_count": 18,
   "metadata": {},
   "outputs": [],
   "source": [
    "# -> замена на медиану\n",
    "df.loc[df['ap_lo'] == 0, 'ap_lo'] = np.median(df['ap_lo'])"
   ]
  },
  {
   "cell_type": "code",
   "execution_count": 19,
   "metadata": {},
   "outputs": [],
   "source": [
    "df.loc[df['ap_lo'] > 200, 'ap_lo'] = df['ap_lo'] / 10"
   ]
  },
  {
   "cell_type": "code",
   "execution_count": 20,
   "metadata": {},
   "outputs": [],
   "source": [
    "df.loc[df['ap_lo'] > 200, 'ap_lo'] = df['ap_lo'] / 10"
   ]
  },
  {
   "cell_type": "code",
   "execution_count": 21,
   "metadata": {},
   "outputs": [],
   "source": [
    "df.loc[df['ap_lo'] > 200, 'ap_lo'] = df['ap_lo'] / 10"
   ]
  },
  {
   "cell_type": "code",
   "execution_count": 22,
   "metadata": {},
   "outputs": [],
   "source": [
    "df.loc[df['ap_lo'] < 50, 'ap_lo'] = df['ap_lo'] * 10"
   ]
  },
  {
   "cell_type": "code",
   "execution_count": 23,
   "metadata": {},
   "outputs": [],
   "source": [
    "df.loc[df['ap_lo'] < 50, 'ap_lo'] = df['ap_lo'] * 10"
   ]
  },
  {
   "cell_type": "code",
   "execution_count": 24,
   "metadata": {},
   "outputs": [],
   "source": [
    "s = df['ap_lo'] > 150\n",
    "df.loc[s, ['ap_hi', 'ap_lo']] = df.loc[s, ['ap_lo', 'ap_hi']].values"
   ]
  },
  {
   "cell_type": "code",
   "execution_count": 25,
   "metadata": {},
   "outputs": [
    {
     "data": {
      "text/plain": [
       "count    70000.000000\n",
       "mean        81.686803\n",
       "std          9.961945\n",
       "min         50.000000\n",
       "25%         80.000000\n",
       "50%         80.000000\n",
       "75%         90.000000\n",
       "max        240.000000\n",
       "Name: ap_lo, dtype: float64"
      ]
     },
     "execution_count": 25,
     "metadata": {},
     "output_type": "execute_result"
    }
   ],
   "source": [
    "df['ap_lo'].describe()"
   ]
  },
  {
   "cell_type": "markdown",
   "metadata": {},
   "source": [
    "#### Преобразование `gender`"
   ]
  },
  {
   "cell_type": "code",
   "execution_count": 26,
   "metadata": {},
   "outputs": [
    {
     "data": {
      "text/html": [
       "<div>\n",
       "<style scoped>\n",
       "    .dataframe tbody tr th:only-of-type {\n",
       "        vertical-align: middle;\n",
       "    }\n",
       "\n",
       "    .dataframe tbody tr th {\n",
       "        vertical-align: top;\n",
       "    }\n",
       "\n",
       "    .dataframe thead th {\n",
       "        text-align: right;\n",
       "    }\n",
       "</style>\n",
       "<table border=\"1\" class=\"dataframe\">\n",
       "  <thead>\n",
       "    <tr style=\"text-align: right;\">\n",
       "      <th></th>\n",
       "      <th>age</th>\n",
       "      <th>height</th>\n",
       "      <th>weight</th>\n",
       "      <th>ap_hi</th>\n",
       "      <th>ap_lo</th>\n",
       "      <th>smoke</th>\n",
       "      <th>alco</th>\n",
       "      <th>active</th>\n",
       "      <th>cardio</th>\n",
       "    </tr>\n",
       "    <tr>\n",
       "      <th>gender</th>\n",
       "      <th></th>\n",
       "      <th></th>\n",
       "      <th></th>\n",
       "      <th></th>\n",
       "      <th></th>\n",
       "      <th></th>\n",
       "      <th></th>\n",
       "      <th></th>\n",
       "      <th></th>\n",
       "    </tr>\n",
       "  </thead>\n",
       "  <tbody>\n",
       "    <tr>\n",
       "      <th>1</th>\n",
       "      <td>19510.124577</td>\n",
       "      <td>161.353745</td>\n",
       "      <td>72.565605</td>\n",
       "      <td>126.365133</td>\n",
       "      <td>81.197424</td>\n",
       "      <td>0.017856</td>\n",
       "      <td>0.025500</td>\n",
       "      <td>0.802021</td>\n",
       "      <td>0.496727</td>\n",
       "    </tr>\n",
       "    <tr>\n",
       "      <th>2</th>\n",
       "      <td>19392.097875</td>\n",
       "      <td>169.947895</td>\n",
       "      <td>77.257307</td>\n",
       "      <td>128.550544</td>\n",
       "      <td>82.597363</td>\n",
       "      <td>0.218880</td>\n",
       "      <td>0.106375</td>\n",
       "      <td>0.806906</td>\n",
       "      <td>0.505231</td>\n",
       "    </tr>\n",
       "  </tbody>\n",
       "</table>\n",
       "</div>"
      ],
      "text/plain": [
       "                 age      height     weight       ap_hi      ap_lo     smoke  \\\n",
       "gender                                                                         \n",
       "1       19510.124577  161.353745  72.565605  126.365133  81.197424  0.017856   \n",
       "2       19392.097875  169.947895  77.257307  128.550544  82.597363  0.218880   \n",
       "\n",
       "            alco    active    cardio  \n",
       "gender                                \n",
       "1       0.025500  0.802021  0.496727  \n",
       "2       0.106375  0.806906  0.505231  "
      ]
     },
     "execution_count": 26,
     "metadata": {},
     "output_type": "execute_result"
    }
   ],
   "source": [
    "df.groupby('gender').mean()"
   ]
  },
  {
   "cell_type": "code",
   "execution_count": 27,
   "metadata": {},
   "outputs": [],
   "source": [
    "# Примем, что средний вес мужчин > среднего веса женщин\n",
    "df['gender'] = df['gender'].map({1: 0, \n",
    "                                 2: 1})"
   ]
  },
  {
   "cell_type": "code",
   "execution_count": 28,
   "metadata": {},
   "outputs": [
    {
     "data": {
      "text/html": [
       "<div>\n",
       "<style scoped>\n",
       "    .dataframe tbody tr th:only-of-type {\n",
       "        vertical-align: middle;\n",
       "    }\n",
       "\n",
       "    .dataframe tbody tr th {\n",
       "        vertical-align: top;\n",
       "    }\n",
       "\n",
       "    .dataframe thead th {\n",
       "        text-align: right;\n",
       "    }\n",
       "</style>\n",
       "<table border=\"1\" class=\"dataframe\">\n",
       "  <thead>\n",
       "    <tr style=\"text-align: right;\">\n",
       "      <th></th>\n",
       "      <th>age</th>\n",
       "      <th>gender</th>\n",
       "      <th>height</th>\n",
       "      <th>weight</th>\n",
       "      <th>ap_hi</th>\n",
       "      <th>ap_lo</th>\n",
       "      <th>smoke</th>\n",
       "      <th>alco</th>\n",
       "      <th>active</th>\n",
       "      <th>cardio</th>\n",
       "    </tr>\n",
       "  </thead>\n",
       "  <tbody>\n",
       "    <tr>\n",
       "      <th>0</th>\n",
       "      <td>18393</td>\n",
       "      <td>1</td>\n",
       "      <td>168</td>\n",
       "      <td>62.0</td>\n",
       "      <td>110.0</td>\n",
       "      <td>80.0</td>\n",
       "      <td>0</td>\n",
       "      <td>0</td>\n",
       "      <td>1</td>\n",
       "      <td>0</td>\n",
       "    </tr>\n",
       "    <tr>\n",
       "      <th>1</th>\n",
       "      <td>20228</td>\n",
       "      <td>0</td>\n",
       "      <td>156</td>\n",
       "      <td>85.0</td>\n",
       "      <td>140.0</td>\n",
       "      <td>90.0</td>\n",
       "      <td>0</td>\n",
       "      <td>0</td>\n",
       "      <td>1</td>\n",
       "      <td>1</td>\n",
       "    </tr>\n",
       "    <tr>\n",
       "      <th>2</th>\n",
       "      <td>18857</td>\n",
       "      <td>0</td>\n",
       "      <td>165</td>\n",
       "      <td>64.0</td>\n",
       "      <td>130.0</td>\n",
       "      <td>70.0</td>\n",
       "      <td>0</td>\n",
       "      <td>0</td>\n",
       "      <td>0</td>\n",
       "      <td>1</td>\n",
       "    </tr>\n",
       "    <tr>\n",
       "      <th>3</th>\n",
       "      <td>17623</td>\n",
       "      <td>1</td>\n",
       "      <td>169</td>\n",
       "      <td>82.0</td>\n",
       "      <td>150.0</td>\n",
       "      <td>100.0</td>\n",
       "      <td>0</td>\n",
       "      <td>0</td>\n",
       "      <td>1</td>\n",
       "      <td>1</td>\n",
       "    </tr>\n",
       "    <tr>\n",
       "      <th>4</th>\n",
       "      <td>17474</td>\n",
       "      <td>0</td>\n",
       "      <td>156</td>\n",
       "      <td>56.0</td>\n",
       "      <td>100.0</td>\n",
       "      <td>60.0</td>\n",
       "      <td>0</td>\n",
       "      <td>0</td>\n",
       "      <td>0</td>\n",
       "      <td>0</td>\n",
       "    </tr>\n",
       "  </tbody>\n",
       "</table>\n",
       "</div>"
      ],
      "text/plain": [
       "     age  gender  height  weight  ap_hi  ap_lo  smoke  alco  active  cardio\n",
       "0  18393       1     168    62.0  110.0   80.0      0     0       1       0\n",
       "1  20228       0     156    85.0  140.0   90.0      0     0       1       1\n",
       "2  18857       0     165    64.0  130.0   70.0      0     0       0       1\n",
       "3  17623       1     169    82.0  150.0  100.0      0     0       1       1\n",
       "4  17474       0     156    56.0  100.0   60.0      0     0       0       0"
      ]
     },
     "execution_count": 28,
     "metadata": {},
     "output_type": "execute_result"
    }
   ],
   "source": [
    "df.head()"
   ]
  },
  {
   "cell_type": "markdown",
   "metadata": {},
   "source": [
    "#### Разделим наши данные на тренировочную и тестовую выборки"
   ]
  },
  {
   "cell_type": "code",
   "execution_count": 29,
   "metadata": {},
   "outputs": [],
   "source": [
    "X_train, X_test, y_train, y_test = train_test_split(\n",
    "    df.drop(['cardio', ], axis=1),\n",
    "    df['cardio'], \n",
    "    random_state=0)"
   ]
  },
  {
   "cell_type": "markdown",
   "metadata": {},
   "source": [
    "К полям:\n",
    "<!-- - `gender`, `cholesterol` применим OHE-кодирование -->\n",
    "<!-- - `age`, `height`, `weight`, `ap_hi`, `ap_lo` - standardScaler -->\n",
    "<!-- - `gluc`, `smoke`, `alco`, `active` - оставим пока как есть -->"
   ]
  },
  {
   "cell_type": "markdown",
   "metadata": {},
   "source": [
    "Добавим классификатор и запустим кросс-валидацию"
   ]
  },
  {
   "cell_type": "code",
   "execution_count": 38,
   "metadata": {},
   "outputs": [],
   "source": [
    "from xgboost import XGBClassifier\n",
    "from sklearn.ensemble import RandomForestClassifier\n",
    "from sklearn.tree import DecisionTreeClassifier"
   ]
  },
  {
   "cell_type": "code",
   "execution_count": 42,
   "metadata": {},
   "outputs": [],
   "source": [
    "# classifier = RandomForestClassifier(n_estimators=200, random_state=42)\n",
    "classifier = DecisionTreeClassifier(max_depth=5, random_state=42)\n",
    "# classifier = XGBClassifier(random_state=42)"
   ]
  },
  {
   "cell_type": "code",
   "execution_count": 43,
   "metadata": {},
   "outputs": [
    {
     "name": "stdout",
     "output_type": "stream",
     "text": [
      "CV score is 0.7863046003341406+-0.0072098004566204495\n",
      "Wall time: 2.04 s\n"
     ]
    }
   ],
   "source": [
    "%%time\n",
    "\n",
    "#запустим кросс-валидацию\n",
    "cv_scores = cross_val_score(classifier, X_train, y_train, cv=16, scoring='roc_auc')\n",
    "cv_score = np.mean(cv_scores)\n",
    "cv_score_std = np.std(cv_scores)\n",
    "print('CV score is {}+-{}'.format(cv_score, cv_score_std))\n",
    "\n",
    "#обучим пайплайн на всем тренировочном датасете\n",
    "classifier.fit(X_train, y_train)\n",
    "y_score = classifier.predict_proba(X_test)[:, 1]"
   ]
  },
  {
   "cell_type": "code",
   "execution_count": 44,
   "metadata": {},
   "outputs": [
    {
     "name": "stdout",
     "output_type": "stream",
     "text": [
      "Best Threshold=0.402778, F-Score=0.729, Precision=0.660, Recall=0.813\n"
     ]
    }
   ],
   "source": [
    "b=1\n",
    "precision, recall, thresholds = precision_recall_curve(y_test.values, y_score)\n",
    "fscore = (1+b**2)*(precision * recall) / (b**2*precision + recall)\n",
    "# locate the index of the largest f score\n",
    "ix = np.argmax(fscore)\n",
    "print('Best Threshold=%f, F-Score=%.3f, Precision=%.3f, Recall=%.3f' % (thresholds[ix], \n",
    "                                                                        fscore[ix],\n",
    "                                                                        precision[ix],\n",
    "                                                                        recall[ix]))"
   ]
  },
  {
   "cell_type": "code",
   "execution_count": 45,
   "metadata": {},
   "outputs": [],
   "source": [
    "X_test_2 = pd.DataFrame(\n",
    "    {\n",
    "        'age': 18,\n",
    "        'gender': 1,  # 1 == man\n",
    "        'height': 164,\n",
    "        'weight': 54.0,\n",
    "        'ap_hi': 200,\n",
    "        'ap_lo': 80,\n",
    "        'smoke': 0,\n",
    "        'alco': 0,\n",
    "        'active': 1\n",
    "    },\n",
    "    index=[80282])"
   ]
  },
  {
   "cell_type": "code",
   "execution_count": 46,
   "metadata": {},
   "outputs": [
    {
     "data": {
      "text/plain": [
       "array([1], dtype=int64)"
      ]
     },
     "execution_count": 46,
     "metadata": {},
     "output_type": "execute_result"
    }
   ],
   "source": [
    "classifier.predict(X_test_2)"
   ]
  },
  {
   "cell_type": "code",
   "execution_count": 47,
   "metadata": {},
   "outputs": [
    {
     "data": {
      "text/plain": [
       "array([[0.13611111, 0.86388889]])"
      ]
     },
     "execution_count": 47,
     "metadata": {},
     "output_type": "execute_result"
    }
   ],
   "source": [
    "classifier.predict_proba(X_test_2)"
   ]
  },
  {
   "cell_type": "code",
   "execution_count": 37,
   "metadata": {},
   "outputs": [],
   "source": [
    "# import dill\n",
    "\n",
    "# with open(\"model_rfc.dill\", \"wb\") as f:\n",
    "#     dill.dump(classifier, f)"
   ]
  },
  {
   "cell_type": "code",
   "execution_count": 48,
   "metadata": {},
   "outputs": [],
   "source": [
    "import dill\n",
    "\n",
    "with open(\"model_dtc.dill\", \"wb\") as f:\n",
    "    dill.dump(classifier, f)"
   ]
  },
  {
   "cell_type": "code",
   "execution_count": 49,
   "metadata": {},
   "outputs": [],
   "source": [
    "import pickle \n",
    "\n",
    "with open('model_dtc.pkl', 'wb') as file:\n",
    "    pickle.dump(classifier,file)"
   ]
  },
  {
   "cell_type": "code",
   "execution_count": 44,
   "metadata": {},
   "outputs": [],
   "source": [
    "# загрузка модели\n",
    "\n",
    "# with open(MODEL_FILE_PATH,'rb') as file:\n",
    "#     model_load=pickle.load(file)"
   ]
  },
  {
   "cell_type": "code",
   "execution_count": 50,
   "metadata": {},
   "outputs": [
    {
     "name": "stdout",
     "output_type": "stream",
     "text": [
      "absl-py==0.11.0\n",
      "alabaster==0.7.12\n",
      "anaconda-client==1.7.2\n",
      "anaconda-navigator==1.9.12\n",
      "anaconda-project==0.8.3\n",
      "argh==0.26.2\n",
      "argon2-cffi @ file:///C:/ci/argon2-cffi_1596828585465/work\n",
      "asn1crypto @ file:///tmp/build/80754af9/asn1crypto_1596577642040/work\n",
      "astroid @ file:///C:/ci/astroid_1592487315634/work\n",
      "astropy==4.0.2\n",
      "astunparse==1.6.3\n",
      "async-generator==1.10\n",
      "atomicwrites==1.4.0\n",
      "attrs @ file:///tmp/build/80754af9/attrs_1600298409949/work\n",
      "autopep8 @ file:///tmp/build/80754af9/autopep8_1596578164842/work\n",
      "Babel==2.8.0\n",
      "backcall==0.2.0\n",
      "backports.functools-lru-cache==1.6.1\n",
      "backports.shutil-get-terminal-size==1.0.0\n",
      "backports.tempfile==1.0\n",
      "backports.weakref==1.0.post1\n",
      "bcrypt @ file:///C:/ci/bcrypt_1597936263757/work\n",
      "beautifulsoup4 @ file:///tmp/build/80754af9/beautifulsoup4_1601924105527/work\n",
      "bitarray @ file:///C:/ci/bitarray_1598866981584/work\n",
      "bkcharts==0.2\n",
      "bleach @ file:///tmp/build/80754af9/bleach_1600439572647/work\n",
      "bokeh @ file:///C:/ci/bokeh_1602773517800/work\n",
      "boto==2.49.0\n",
      "Bottleneck==1.3.2\n",
      "brotlipy==0.7.0\n",
      "cachetools==4.1.1\n",
      "catboost==0.24.2\n",
      "causalml==0.9.0\n",
      "certifi==2020.11.8\n",
      "cffi @ file:///C:/ci/cffi_1600699246375/work\n",
      "chardet==3.0.4\n",
      "click==7.1.1\n",
      "cloudpickle @ file:///tmp/build/80754af9/cloudpickle_1598884132938/work\n",
      "clyent==1.2.2\n",
      "colorama==0.4.3\n",
      "comtypes==1.1.7\n",
      "conda==4.9.2\n",
      "conda-build==3.20.3\n",
      "conda-package-handling==1.7.0\n",
      "conda-verify==3.4.2\n",
      "contextlib2==0.6.0.post1\n",
      "cryptography @ file:///C:/ci/cryptography_1601046905460/work\n",
      "cycler==0.10.0\n",
      "Cython @ file:///C:/ci/cython_1605457704149/work\n",
      "cytoolz==0.11.0\n",
      "dask @ file:///tmp/build/80754af9/dask-core_1602083700509/work\n",
      "DAWG-Python==0.7.2\n",
      "decorator==4.4.2\n",
      "defusedxml==0.6.0\n",
      "diff-match-patch @ file:///tmp/build/80754af9/diff-match-patch_1594828741838/work\n",
      "dill==0.3.2\n",
      "distributed @ file:///C:/ci/distributed_1602065828555/work\n",
      "docopt==0.6.2\n",
      "docutils==0.16\n",
      "entrypoints==0.3\n",
      "et-xmlfile==1.0.1\n",
      "fastcache==1.1.0\n",
      "filelock==3.0.12\n",
      "flake8 @ file:///tmp/build/80754af9/flake8_1601911421857/work\n",
      "Flask==1.1.2\n",
      "fsspec @ file:///tmp/build/80754af9/fsspec_1602684995936/work\n",
      "future==0.18.2\n",
      "gast==0.3.3\n",
      "gensim==3.8.3\n",
      "gevent @ file:///C:/ci/gevent_1601397627942/work\n",
      "glob2==0.7\n",
      "gmpy2==2.0.8\n",
      "google-auth==1.23.0\n",
      "google-auth-oauthlib==0.4.2\n",
      "google-pasta==0.2.0\n",
      "graphviz==0.14.2\n",
      "greenlet @ file:///C:/ci/greenlet_1600885448389/work\n",
      "grpcio==1.33.2\n",
      "h5py==2.10.0\n",
      "HeapDict==1.0.1\n",
      "html5lib @ file:///tmp/build/80754af9/html5lib_1593446221756/work\n",
      "idna @ file:///tmp/build/80754af9/idna_1593446292537/work\n",
      "imageio @ file:///tmp/build/80754af9/imageio_1594161405741/work\n",
      "imagesize==1.2.0\n",
      "importlib-metadata @ file:///tmp/build/80754af9/importlib-metadata_1602276842396/work\n",
      "iniconfig @ file:///tmp/build/80754af9/iniconfig_1602780191262/work\n",
      "intervaltree @ file:///tmp/build/80754af9/intervaltree_1598376443606/work\n",
      "ipykernel @ file:///C:/ci/ipykernel_1596190155316/work/dist/ipykernel-5.3.4-py3-none-any.whl\n",
      "ipython @ file:///C:/ci/ipython_1598865816163/work\n",
      "ipython-genutils==0.2.0\n",
      "ipywidgets @ file:///tmp/build/80754af9/ipywidgets_1601490159889/work\n",
      "isort @ file:///tmp/build/80754af9/isort_1602603989581/work\n",
      "itsdangerous==1.1.0\n",
      "jdcal==1.4.1\n",
      "jedi @ file:///C:/ci/jedi_1592833825077/work\n",
      "Jinja2==2.11.2\n",
      "joblib @ file:///tmp/build/80754af9/joblib_1601912903842/work\n",
      "json5==0.9.5\n",
      "jsonschema @ file:///tmp/build/80754af9/jsonschema_1602607155483/work\n",
      "jupyter==1.0.0\n",
      "jupyter-client @ file:///tmp/build/80754af9/jupyter_client_1601311786391/work\n",
      "jupyter-console @ file:///tmp/build/80754af9/jupyter_console_1598884538475/work\n",
      "jupyter-contrib-core==0.3.3\n",
      "jupyter-contrib-nbextensions @ https://github.com/ipython-contrib/jupyter_contrib_nbextensions/tarball/master\n",
      "jupyter-core==4.6.3\n",
      "jupyter-highlight-selected-word==0.2.0\n",
      "jupyter-latex-envs==1.4.6\n",
      "jupyter-nbextensions-configurator==0.4.1\n",
      "jupyter-tabnine==1.1.0\n",
      "jupyterlab==2.2.6\n",
      "jupyterlab-pygments @ file:///tmp/build/80754af9/jupyterlab_pygments_1601490720602/work\n",
      "jupyterlab-server @ file:///tmp/build/80754af9/jupyterlab_server_1594164409481/work\n",
      "Keras==2.4.3\n",
      "Keras-Preprocessing==1.1.2\n",
      "keyring @ file:///C:/ci/keyring_1601489747083/work\n",
      "kiwisolver==1.2.0\n",
      "lazy-object-proxy==1.4.3\n",
      "libarchive-c==2.9\n",
      "lightgbm==3.0.0\n",
      "llvmlite==0.34.0\n",
      "locket==0.2.0\n",
      "lxml @ file:///C:/ci/lxml_1594822774489/work\n",
      "Markdown==3.3.3\n",
      "MarkupSafe==1.1.1\n",
      "matplotlib @ file:///C:/ci/matplotlib-base_1597876438601/work\n",
      "mccabe==0.6.1\n",
      "menuinst==1.4.16\n",
      "mistune==0.8.4\n",
      "mkl-fft==1.2.0\n",
      "mkl-random==1.1.1\n",
      "mkl-service==2.3.0\n",
      "mock==4.0.2\n",
      "more-itertools @ file:///tmp/build/80754af9/more-itertools_1598884071673/work\n",
      "mpmath==1.1.0\n",
      "msgpack==1.0.0\n",
      "multipledispatch==0.6.0\n",
      "mysql-connector-python==8.0.22\n",
      "navigator-updater==0.2.1\n",
      "nbclient @ file:///tmp/build/80754af9/nbclient_1602783176460/work\n",
      "nbconvert @ file:///C:/ci/nbconvert_1601914925608/work\n",
      "nbformat @ file:///tmp/build/80754af9/nbformat_1602783287752/work\n",
      "nest-asyncio @ file:///tmp/build/80754af9/nest-asyncio_1601499549014/work\n",
      "networkx @ file:///tmp/build/80754af9/networkx_1598376031484/work\n",
      "nltk @ file:///tmp/build/80754af9/nltk_1592496090529/work\n",
      "nose==1.3.7\n",
      "notebook @ file:///C:/ci/notebook_1601501643625/work\n",
      "numba==0.51.2\n",
      "numexpr==2.7.1\n",
      "numpy @ file:///C:/ci/numpy_and_numpy_base_1596215850360/work\n",
      "numpydoc @ file:///tmp/build/80754af9/numpydoc_1594166760263/work\n",
      "oauthlib==3.1.0\n",
      "olefile==0.46\n",
      "openpyxl @ file:///tmp/build/80754af9/openpyxl_1598113097404/work\n",
      "opt-einsum==3.3.0\n",
      "packaging==20.4\n",
      "pandas @ file:///C:/ci/pandas_1602083338010/work\n",
      "pandocfilters==1.4.2\n",
      "paramiko @ file:///tmp/build/80754af9/paramiko_1598886428689/work\n",
      "parso==0.7.0\n",
      "partd==1.1.0\n",
      "path @ file:///C:/ci/path_1598358556930/work\n",
      "pathlib2==2.3.5\n",
      "pathtools==0.1.2\n",
      "patsy==0.5.1\n",
      "pep8==1.7.1\n",
      "pexpect==4.8.0\n",
      "pickleshare==0.7.5\n",
      "Pillow @ file:///C:/ci/pillow_1602770972588/work\n",
      "pip-tools==5.3.1\n",
      "pkginfo==1.5.0.1\n",
      "plotly==4.12.0\n",
      "pluggy==0.13.1\n",
      "ply==3.11\n",
      "progressbar2==3.53.1\n",
      "prometheus-client==0.8.0\n",
      "prompt-toolkit @ file:///tmp/build/80754af9/prompt-toolkit_1602688806899/work\n",
      "protobuf==3.13.0\n",
      "psutil @ file:///C:/ci/psutil_1598370330503/work\n",
      "py @ file:///tmp/build/80754af9/py_1593446248552/work\n",
      "pyasn1==0.4.8\n",
      "pyasn1-modules==0.2.8\n",
      "pycodestyle==2.6.0\n",
      "pycosat==0.6.3\n",
      "pycparser @ file:///tmp/build/80754af9/pycparser_1594388511720/work\n",
      "pycurl==7.43.0.6\n",
      "pydocstyle @ file:///tmp/build/80754af9/pydocstyle_1598885001695/work\n",
      "pydotplus==2.0.2\n",
      "pyflakes==2.2.0\n",
      "pygam==0.8.0\n",
      "pygame==2.0.0.dev8\n",
      "Pygments @ file:///tmp/build/80754af9/pygments_1600458456400/work\n",
      "pylint @ file:///C:/ci/pylint_1598617153160/work\n",
      "pymongo==3.11.0\n",
      "pymorphy2==0.9.1\n",
      "pymorphy2-dicts-ru==2.4.417127.4579844\n",
      "PyNaCl @ file:///C:/ci/pynacl_1595000047588/work\n",
      "pyodbc===4.0.0-unsupported\n",
      "pyOpenSSL @ file:///tmp/build/80754af9/pyopenssl_1594392929924/work\n",
      "pyparsing==2.4.7\n",
      "pyreadline==2.1\n",
      "pyrsistent @ file:///C:/ci/pyrsistent_1600141795814/work\n",
      "PySocks==1.7.1\n",
      "pytest==0.0.0\n",
      "python-dateutil==2.8.1\n",
      "python-jsonrpc-server @ file:///tmp/build/80754af9/python-jsonrpc-server_1600278539111/work\n",
      "python-language-server @ file:///tmp/build/80754af9/python-language-server_1600454544709/work\n",
      "python-utils==2.4.0\n",
      "pytz==2020.1\n",
      "PyWavelets @ file:///C:/ci/pywavelets_1601658407916/work\n",
      "pywin32==227\n",
      "pywin32-ctypes==0.2.0\n",
      "pywinpty==0.5.7\n",
      "PyYAML==5.3.1\n",
      "pyzmq==19.0.2\n",
      "QDarkStyle==2.8.1\n",
      "QtAwesome @ file:///tmp/build/80754af9/qtawesome_1602272867890/work\n",
      "qtconsole @ file:///tmp/build/80754af9/qtconsole_1600870028330/work\n",
      "QtPy==1.9.0\n",
      "razdel==0.5.0\n",
      "regex @ file:///C:/ci/regex_1602770567298/work\n",
      "requests @ file:///tmp/build/80754af9/requests_1592841827918/work\n",
      "requests-oauthlib==1.3.0\n",
      "retrying==1.3.3\n",
      "rope @ file:///tmp/build/80754af9/rope_1602264064449/work\n",
      "rsa==4.6\n",
      "Rtree==0.9.4\n",
      "ruamel-yaml==0.15.87\n",
      "scikit-image==0.16.2\n",
      "scikit-learn @ file:///C:/ci/scikit-learn_1598377018496/work\n",
      "scikit-uplift==0.2.0\n",
      "scipy @ file:///C:/ci/scipy_1604596260408/work\n",
      "seaborn @ file:///tmp/build/80754af9/seaborn_1600553570093/work\n",
      "Send2Trash==1.5.0\n",
      "shap==0.36.0\n",
      "simple-draw==2.6.8\n",
      "simplegeneric==0.8.1\n",
      "singledispatch @ file:///tmp/build/80754af9/singledispatch_1602523705405/work\n",
      "sip==4.19.13\n",
      "six==1.15.0\n",
      "slicer==0.0.4\n",
      "smart-open==3.0.0\n",
      "snowballstemmer==2.0.0\n",
      "sortedcollections==1.2.1\n",
      "sortedcontainers==2.2.2\n",
      "soupsieve==2.0.1\n",
      "Sphinx @ file:///tmp/build/80754af9/sphinx_1597428793432/work\n",
      "sphinxcontrib-applehelp==1.0.2\n",
      "sphinxcontrib-devhelp==1.0.2\n",
      "sphinxcontrib-htmlhelp==1.0.3\n",
      "sphinxcontrib-jsmath==1.0.1\n",
      "sphinxcontrib-qthelp==1.0.3\n",
      "sphinxcontrib-serializinghtml==1.1.4\n",
      "sphinxcontrib-websupport @ file:///tmp/build/80754af9/sphinxcontrib-websupport_1597081412696/work\n",
      "spyder @ file:///C:/ci/spyder_1599054115447/work\n",
      "spyder-kernels @ file:///C:/ci/spyder-kernels_1599051709837/work\n",
      "SQLAlchemy @ file:///C:/ci/sqlalchemy_1598374833867/work\n",
      "statsmodels==0.12.0\n",
      "sympy @ file:///C:/ci/sympy_1598376430073/work\n",
      "tables==3.6.1\n",
      "tblib @ file:///tmp/build/80754af9/tblib_1597928476713/work\n",
      "tensorboard==2.3.0\n",
      "tensorboard-plugin-wit==1.7.0\n",
      "tensorflow==2.3.1\n",
      "tensorflow-estimator==2.3.0\n",
      "termcolor==1.1.0\n",
      "terminado==0.9.1\n",
      "testpath==0.4.4\n",
      "threadpoolctl @ file:///tmp/tmp9twdgx9k/threadpoolctl-2.1.0-py3-none-any.whl\n",
      "toml @ file:///tmp/build/80754af9/toml_1592853716807/work\n",
      "toolz @ file:///tmp/build/80754af9/toolz_1601054250827/work\n",
      "tornado==6.0.4\n",
      "tqdm @ file:///tmp/build/80754af9/tqdm_1602185206534/work\n",
      "traitlets @ file:///tmp/build/80754af9/traitlets_1602787416690/work\n",
      "typing-extensions @ file:///tmp/build/80754af9/typing_extensions_1598376058250/work\n",
      "ujson @ file:///C:/ci/ujson_1602505266082/work\n",
      "unicodecsv==0.14.1\n",
      "urllib3 @ file:///tmp/build/80754af9/urllib3_1597086586889/work\n",
      "watchdog @ file:///C:/ci/watchdog_1593447437088/work\n",
      "wcwidth @ file:///tmp/build/80754af9/wcwidth_1593447189090/work\n",
      "webencodings==0.5.1\n",
      "Werkzeug==1.0.1\n",
      "widgetsnbextension==3.5.1\n",
      "win-inet-pton==1.1.0\n",
      "win-unicode-console==0.5\n",
      "wincertstore==0.2\n",
      "wrapt==1.11.2\n",
      "xgboost==1.2.1\n",
      "xlrd==1.2.0\n",
      "XlsxWriter @ file:///tmp/build/80754af9/xlsxwriter_1602692860603/work\n",
      "xlwings==0.20.7\n",
      "xlwt==1.3.0\n",
      "xmltodict==0.12.0\n",
      "yapf @ file:///tmp/build/80754af9/yapf_1593528177422/work\n",
      "zict==2.0.0\n",
      "zipp @ file:///tmp/build/80754af9/zipp_1602002379921/work\n",
      "zope.event==4.5.0\n",
      "zope.interface @ file:///C:/ci/zope.interface_1602002494740/work\n"
     ]
    }
   ],
   "source": [
    "!pip freeze"
   ]
  }
 ],
 "metadata": {
  "kernelspec": {
   "display_name": "Python 3",
   "language": "python",
   "name": "python3"
  },
  "language_info": {
   "codemirror_mode": {
    "name": "ipython",
    "version": 3
   },
   "file_extension": ".py",
   "mimetype": "text/x-python",
   "name": "python",
   "nbconvert_exporter": "python",
   "pygments_lexer": "ipython3",
   "version": "3.8.5"
  },
  "toc": {
   "base_numbering": 1,
   "nav_menu": {},
   "number_sections": true,
   "sideBar": true,
   "skip_h1_title": false,
   "title_cell": "Table of Contents",
   "title_sidebar": "Contents",
   "toc_cell": false,
   "toc_position": {},
   "toc_section_display": true,
   "toc_window_display": false
  },
  "toc-autonumbering": true
 },
 "nbformat": 4,
 "nbformat_minor": 4
}
