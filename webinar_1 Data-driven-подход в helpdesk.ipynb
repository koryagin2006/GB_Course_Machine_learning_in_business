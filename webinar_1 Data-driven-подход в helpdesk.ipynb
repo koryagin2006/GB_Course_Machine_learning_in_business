{
 "cells": [
  {
   "cell_type": "markdown",
   "metadata": {
    "toc": true
   },
   "source": [
    "<h1>Table of Contents<span class=\"tocSkip\"></span></h1>\n",
    "<div class=\"toc\"><ul class=\"toc-item\"><li><ul class=\"toc-item\"><li><span><a href=\"#О-чем-курс-и-для-кого\" data-toc-modified-id=\"О-чем-курс-и-для-кого-0.1\"><span class=\"toc-item-num\">0.1&nbsp;&nbsp;</span>О чем курс и для кого</a></span><ul class=\"toc-item\"><li><span><a href=\"#Важные-уточнения\" data-toc-modified-id=\"Важные-уточнения-0.1.1\"><span class=\"toc-item-num\">0.1.1&nbsp;&nbsp;</span>Важные уточнения</a></span></li></ul></li></ul></li><li><span><a href=\"#Вебинар-1.-Введение.-Data-driven-подход-на-примере-задачи-маршрутизации-заявок-в-helpdesk\" data-toc-modified-id=\"Вебинар-1.-Введение.-Data-driven-подход-на-примере-задачи-маршрутизации-заявок-в-helpdesk-1\"><span class=\"toc-item-num\">1&nbsp;&nbsp;</span>Вебинар 1. Введение. Data-driven подход на примере задачи маршрутизации заявок в helpdesk</a></span><ul class=\"toc-item\"><li><span><a href=\"#Немного-о-себе:\" data-toc-modified-id=\"Немного-о-себе:-1.1\"><span class=\"toc-item-num\">1.1&nbsp;&nbsp;</span>Немного о себе:</a></span></li><li><span><a href=\"#Введение-и-примеры-задач,-которые-мы-рассмотрим-в-рамках-курса\" data-toc-modified-id=\"Введение-и-примеры-задач,-которые-мы-рассмотрим-в-рамках-курса-1.2\"><span class=\"toc-item-num\">1.2&nbsp;&nbsp;</span>Введение и примеры задач, которые мы рассмотрим в рамках курса</a></span></li><li><span><a href=\"#Пример-1.-Маршрутизация-заявок-в-службе-технической-поддержки\" data-toc-modified-id=\"Пример-1.-Маршрутизация-заявок-в-службе-технической-поддержки-1.3\"><span class=\"toc-item-num\">1.3&nbsp;&nbsp;</span>Пример 1. Маршрутизация заявок в службе технической поддержки</a></span><ul class=\"toc-item\"><li><span><a href=\"#Как-это-может-выглядеть-на-практике-(с-вариациями)\" data-toc-modified-id=\"Как-это-может-выглядеть-на-практике-(с-вариациями)-1.3.1\"><span class=\"toc-item-num\">1.3.1&nbsp;&nbsp;</span>Как это может выглядеть на практике (с вариациями)</a></span></li></ul></li><li><span><a href=\"#1.-Проблема-и-почему-ее-стоит-решать-(игрушечный-пример)\" data-toc-modified-id=\"1.-Проблема-и-почему-ее-стоит-решать-(игрушечный-пример)-1.4\"><span class=\"toc-item-num\">1.4&nbsp;&nbsp;</span>1. Проблема и почему ее стоит решать (игрушечный пример)</a></span></li><li><span><a href=\"#2.-Продуктовая-гипотеза\" data-toc-modified-id=\"2.-Продуктовая-гипотеза-1.5\"><span class=\"toc-item-num\">1.5&nbsp;&nbsp;</span>2. Продуктовая гипотеза</a></span></li><li><span><a href=\"#3.-ML-решение-(общий-случай)\" data-toc-modified-id=\"3.-ML-решение-(общий-случай)-1.6\"><span class=\"toc-item-num\">1.6&nbsp;&nbsp;</span>3. ML решение (общий случай)</a></span></li><li><span><a href=\"#4.-AB-тестирование-(планирование)\" data-toc-modified-id=\"4.-AB-тестирование-(планирование)-1.7\"><span class=\"toc-item-num\">1.7&nbsp;&nbsp;</span>4. AB-тестирование (планирование)</a></span></li><li><span><a href=\"#Как-разбить-аудиторию?\" data-toc-modified-id=\"Как-разбить-аудиторию?-1.8\"><span class=\"toc-item-num\">1.8&nbsp;&nbsp;</span>Как разбить аудиторию?</a></span></li><li><span><a href=\"#Как-понять,-сколько-нам-&quot;достаточно&quot;?\" data-toc-modified-id=\"Как-понять,-сколько-нам-&quot;достаточно&quot;?-1.9\"><span class=\"toc-item-num\">1.9&nbsp;&nbsp;</span>Как понять, сколько нам \"достаточно\"?</a></span></li><li><span><a href=\"#5.-Оценка-результатов-и-вопрос-интеграции\" data-toc-modified-id=\"5.-Оценка-результатов-и-вопрос-интеграции-1.10\"><span class=\"toc-item-num\">1.10&nbsp;&nbsp;</span>5. Оценка результатов и вопрос интеграции</a></span></li><li><span><a href=\"#ПЕРЕРЫВ-(до-21:05-МСК)\" data-toc-modified-id=\"ПЕРЕРЫВ-(до-21:05-МСК)-1.11\"><span class=\"toc-item-num\">1.11&nbsp;&nbsp;</span>ПЕРЕРЫВ (до 21:05 МСК)</a></span></li></ul></li><li><span><a href=\"#Вернемся-к-практике\" data-toc-modified-id=\"Вернемся-к-практике-2\"><span class=\"toc-item-num\">2&nbsp;&nbsp;</span>Вернемся к практике</a></span><ul class=\"toc-item\"><li><span><a href=\"#tfidf-(если-кто-то-забыл)\" data-toc-modified-id=\"tfidf-(если-кто-то-забыл)-2.1\"><span class=\"toc-item-num\">2.1&nbsp;&nbsp;</span>tfidf (если кто-то забыл)</a></span></li><li><span><a href=\"#Рассчитаем-Precision,-Recall,-F_score\" data-toc-modified-id=\"Рассчитаем-Precision,-Recall,-F_score-2.2\"><span class=\"toc-item-num\">2.2&nbsp;&nbsp;</span>Рассчитаем Precision, Recall, F_score</a></span><ul class=\"toc-item\"><li><span><a href=\"#Вопрос-1:-объясните-своими-словами-смысл-метрик-Precison,-Recall-*\" data-toc-modified-id=\"Вопрос-1:-объясните-своими-словами-смысл-метрик-Precison,-Recall-*-2.2.1\"><span class=\"toc-item-num\">2.2.1&nbsp;&nbsp;</span>Вопрос 1: объясните своими словами смысл метрик Precison, Recall *</a></span></li></ul></li><li><span><a href=\"#Вспоминаем-базовые-DS-метрики-классификации\" data-toc-modified-id=\"Вспоминаем-базовые-DS-метрики-классификации-2.3\"><span class=\"toc-item-num\">2.3&nbsp;&nbsp;</span>Вспоминаем базовые DS-метрики классификации</a></span><ul class=\"toc-item\"><li><span><a href=\"#Вопрос-2:-Как-вы-думаете,-что-бы-нам-пришлось-делать,-если-бы-модель-ошибалась-бы-чаще?\" data-toc-modified-id=\"Вопрос-2:-Как-вы-думаете,-что-бы-нам-пришлось-делать,-если-бы-модель-ошибалась-бы-чаще?-2.3.1\"><span class=\"toc-item-num\">2.3.1&nbsp;&nbsp;</span>Вопрос 2: Как вы думаете, что бы нам пришлось делать, если бы модель ошибалась бы чаще?</a></span></li><li><span><a href=\"#Примечание\" data-toc-modified-id=\"Примечание-2.3.2\"><span class=\"toc-item-num\">2.3.2&nbsp;&nbsp;</span>Примечание</a></span></li></ul></li><li><span><a href=\"#Выводы-по-этапу-ML-решения\" data-toc-modified-id=\"Выводы-по-этапу-ML-решения-2.4\"><span class=\"toc-item-num\">2.4&nbsp;&nbsp;</span>Выводы по этапу ML-решения</a></span></li><li><span><a href=\"#Что-стоит-знать-для-комфортного-прохождения-курса-(минимум)\" data-toc-modified-id=\"Что-стоит-знать-для-комфортного-прохождения-курса-(минимум)-2.5\"><span class=\"toc-item-num\">2.5&nbsp;&nbsp;</span>Что стоит знать для комфортного прохождения курса (минимум)</a></span><ul class=\"toc-item\"><li><span><a href=\"#Более-детально:\" data-toc-modified-id=\"Более-детально:-2.5.1\"><span class=\"toc-item-num\">2.5.1&nbsp;&nbsp;</span>Более детально:</a></span></li></ul></li><li><span><a href=\"#По-инструментам-*\" data-toc-modified-id=\"По-инструментам-*-2.6\"><span class=\"toc-item-num\">2.6&nbsp;&nbsp;</span>По инструментам *</a></span></li><li><span><a href=\"#Домашнее-задание-1-(теоретическая-часть)\" data-toc-modified-id=\"Домашнее-задание-1-(теоретическая-часть)-2.7\"><span class=\"toc-item-num\">2.7&nbsp;&nbsp;</span>Домашнее задание 1 (теоретическая часть)</a></span></li><li><span><a href=\"#Полезные-ссылки\" data-toc-modified-id=\"Полезные-ссылки-2.8\"><span class=\"toc-item-num\">2.8&nbsp;&nbsp;</span>Полезные ссылки</a></span></li><li><span><a href=\"#Домашнее-задание-2-(практическая-часть)\" data-toc-modified-id=\"Домашнее-задание-2-(практическая-часть)-2.9\"><span class=\"toc-item-num\">2.9&nbsp;&nbsp;</span>Домашнее задание 2 (практическая часть)</a></span></li></ul></li></ul></div>"
   ]
  },
  {
   "cell_type": "markdown",
   "metadata": {},
   "source": [
    "### О чем курс и для кого"
   ]
  },
  {
   "cell_type": "markdown",
   "metadata": {},
   "source": [
    "#Данный курс посвящен применению ML в бизнесе. Курс создан с целью ознакомления с прикладными задачами, в которых машинное обучение хорошо работает и приносит пользу в виде увеличения финансовых показателей либо улучшения (автоматизации) процессов в компании. В рамках курса будет рассмотрено несколько прикладных задач, таких как:\n",
    "\n",
    "- retargeting\n",
    "- lookalike\n",
    "- задача uplift-моделирования\n",
    "- моделирование оттока. \n",
    "\n",
    "Также будет затронут вопрос формулирования гипотез, презентации результатов, интеграции и АБ-тестирования ML-моделей. \n",
    "\n",
    "Итогом курса будет разработка Rest API сервиса, с которым можно взаимодействовать и получать прогнозы для новых данных.#"
   ]
  },
  {
   "cell_type": "markdown",
   "metadata": {},
   "source": [
    "#### Важные уточнения"
   ]
  },
  {
   "cell_type": "markdown",
   "metadata": {},
   "source": [
    "Моделирование - лишь малая часть большого процесса по решению реальной задачи"
   ]
  },
  {
   "cell_type": "markdown",
   "metadata": {},
   "source": [
    "![ab_split](Data/tdsp-lifecycle2.png \"TDSP\")"
   ]
  },
  {
   "cell_type": "markdown",
   "metadata": {},
   "source": [
    "Существует проблема общения бизнеса и DS"
   ]
  },
  {
   "cell_type": "markdown",
   "metadata": {},
   "source": [
    "## Вебинар 1. Введение. Data-driven подход на примере задачи маршрутизации заявок в helpdesk"
   ]
  },
  {
   "cell_type": "markdown",
   "metadata": {},
   "source": [
    "### Немного о себе:\n",
    "\n",
    "DS в creative-mobile (делаем игры)\n",
    "\n",
    "exMTS, exMailru, etc\n",
    "\n",
    "5+ лет опыта в DS\n",
    "\n",
    "\n",
    "- рекомендательные системы, uplift-моделирование в одном из крупнейших телеком-операторов России\n",
    "- сегментация пользователей социальных сетей, построение универсальных представлений пользователей по их активности (поведенческие профили и графы взаимодействия)\n",
    "- прогнозирование оттока/покупки, рекомендательные системы в игровой индустрии\n",
    "- оптимизация рекламных кампаний\n",
    "- анализ эффективности изменений и ивентов с помощью машинного обучения\n",
    "- разработка мультиязычных рекомендаций статей в одном крупном агрегаторе новостей\n",
    "- многое другое\n"
   ]
  },
  {
   "cell_type": "markdown",
   "metadata": {},
   "source": [
    "### Введение и примеры задач, которые мы рассмотрим в рамках курса"
   ]
  },
  {
   "cell_type": "markdown",
   "metadata": {},
   "source": [
    "Машинное обучение в бизнесе:\n",
    "- ориентированность на улучшение показателей бизнеса\n",
    "- сложно оценить результат заранее\n",
    "- долго по времени\n",
    "- планирование внедрения"
   ]
  },
  {
   "cell_type": "markdown",
   "metadata": {},
   "source": [
    "Примеры задач:\n",
    "- маршрутизация заявок в helpdesk\n",
    "- сегментирование аудитории\n",
    "- прогнозирование оттока\n",
    "- персональные рекомендации\n",
    "- uplift-моделирование\n",
    "- etc"
   ]
  },
  {
   "cell_type": "markdown",
   "metadata": {},
   "source": [
    "### Пример 1. Маршрутизация заявок в службе технической поддержки"
   ]
  },
  {
   "cell_type": "markdown",
   "metadata": {},
   "source": [
    "Схема"
   ]
  },
  {
   "cell_type": "markdown",
   "metadata": {},
   "source": [
    "![ab_split](Data/helpdesk1.png \"Helpdesk 1\")"
   ]
  },
  {
   "cell_type": "markdown",
   "metadata": {},
   "source": [
    "Ссылка - http://www.it-rw.ru/helpdesk2.html"
   ]
  },
  {
   "cell_type": "markdown",
   "metadata": {},
   "source": [
    "Проблема - много ручной работы по распределению заявок между командами.\n",
    "\n",
    "Возможное решение - передать управление процессом распределения заявок ML-модели."
   ]
  },
  {
   "cell_type": "markdown",
   "metadata": {},
   "source": [
    "На схеме выше мы встраиваем модель параллельно с администратором, которая также будет разбирать заявки автоматически. "
   ]
  },
  {
   "cell_type": "markdown",
   "metadata": {},
   "source": [
    "С чего же нам начать?"
   ]
  },
  {
   "cell_type": "markdown",
   "metadata": {},
   "source": [
    "#### Как это может выглядеть на практике (с вариациями)"
   ]
  },
  {
   "cell_type": "markdown",
   "metadata": {},
   "source": [
    "Проблема -> Анализ -> Продуктовая гипотеза -> Метрики и критерии приемки -> ML решение -> AB-тестирование -> Оценка результатов -> Интеграция с другими командами"
   ]
  },
  {
   "cell_type": "markdown",
   "metadata": {},
   "source": [
    "### 1. Проблема и почему ее стоит решать (игрушечный пример)"
   ]
  },
  {
   "cell_type": "markdown",
   "metadata": {},
   "source": [
    "Сейчас все заявки разбираются вручную операторами первой линии и на это уходит N человекочасов в день. Стоимость одного человекочаса - K рублей. Если хотя бы часть (минимум x процентов) заявок будет распределяться автоматически, то это сэкономит нам N*x*k рублей в целом для компании. Более того, часть заявок не успевают распределять, в результате чего компания получает недовольных клиентов."
   ]
  },
  {
   "cell_type": "markdown",
   "metadata": {},
   "source": [
    "* на практике часто несколько сложнее обосновать экономическую составляющую, но это почти всегда можно сделать"
   ]
  },
  {
   "cell_type": "markdown",
   "metadata": {},
   "source": [
    "### 2. Продуктовая гипотеза"
   ]
  },
  {
   "cell_type": "markdown",
   "metadata": {},
   "source": [
    "\"Базируясь на предположении, что модель машинного обучения сможет классифицировать заявки автоматически по их текстовому содержанию и метаинформации, <b>не превышая ошибку в 10%</b>, мы предполагаем, что реализовав такую систему распределения заявок, основанную на ML, мы сможем заметно снизить нагрузку на людей, которые распределяют заявки вручную. Мы увидим это по <b>увеличению количества заявок</b> , <b>корректно</b> обрабатываемых первой линией ТП и можем измерить ее с помощью метрики <b>доля заявок, корректно переведенных на второй уровень ТП</b>. Мы полагаем, что изменение приведет к хорошим результатам для компании, т.к значимо снизит нагрузку на сотрудников ТП и уменьшит долю заявок, которые не успевают обрабатываться\""
   ]
  },
  {
   "cell_type": "markdown",
   "metadata": {},
   "source": [
    "Метрика1 (основная) - ctr (доля заявок, обработанных ML-моделью)\n",
    "\n",
    "* ML-модель может ошибаться и некорректно классифицировать заявки, но она не должна это делать чаще, чем в 10% случаев. Любая некорректно классифицированная заявка возвращается обратно в очередь, при этом тратится время дополнительно уже специалистов второго уровня ТП"
   ]
  },
  {
   "cell_type": "markdown",
   "metadata": {},
   "source": [
    "Откуда взялись 10процентов? - это средняя ошибка человека первой линии ТП. Мы хотим, чтобы наша модель ошибалась не чаще и при этом сама парсила содержимое заявок и принимала одно из 2 решений: \n",
    "\n",
    "- передать на второй уровень ТП (выполнить маршрутизацию)\n",
    "- вернуть заявку в общую очередь (пометить, что недостаточно уверена и пусть уже далее заявка разбирается вручную)"
   ]
  },
  {
   "cell_type": "markdown",
   "metadata": {},
   "source": [
    "### 3. ML решение (общий случай)\n",
    "\n",
    "1. Формулировка задачи и выбор метрики (DS)\n",
    "2. Сбор данных и подготовка датасета\n",
    "3. Построение модели (обучение)\n",
    "4. Оборачивание всего этого в пайплайн обучения (для того, чтобы использовать в production)\n",
    "5. Мониторинг качества, логгирование\n",
    "6. Оценка результатов и проведение экспериментов"
   ]
  },
  {
   "cell_type": "markdown",
   "metadata": {},
   "source": [
    "### 4. AB-тестирование (планирование)"
   ]
  },
  {
   "cell_type": "markdown",
   "metadata": {},
   "source": [
    "Как АБ-тестирование выглядит в общем случае, когда у нас 2 варианта"
   ]
  },
  {
   "cell_type": "markdown",
   "metadata": {},
   "source": [
    "![ab_split](Data/ab1.png \"AB split\")"
   ]
  },
  {
   "cell_type": "markdown",
   "metadata": {},
   "source": [
    "Разбиваем все наши заявки на 2 группы (при этом мы не все заявки берем, а только некоторую часть - об этом позже): \n",
    "\n",
    "- A: заявки разбираются вручную как и ранее\n",
    "- B: в обработке заявок участвует модель\n",
    "\n",
    "Далее сравниваем с помощью статистического теста долю правильно обработанных и переданных на второй уровень ТП заявок. \n",
    "\n",
    "Гипотеза 0 - разницы в конверсии нет и модель никак не увеличивает долю таких заявок.\n",
    "\n",
    "Гипотеза 1 - модель статистически значимо увеличит показатель конверсии. \n",
    "\n",
    "Т.к наша метрика - конверсия, то нам легко будет выбрать критерий и подтвердить/опровергнуть нулевую гипотезу."
   ]
  },
  {
   "cell_type": "markdown",
   "metadata": {},
   "source": [
    "### Как разбить аудиторию?"
   ]
  },
  {
   "cell_type": "markdown",
   "metadata": {},
   "source": [
    "- случайно\n",
    "- случайно со стратификацией\n",
    "- отфильтровать по сегментам"
   ]
  },
  {
   "cell_type": "markdown",
   "metadata": {},
   "source": [
    "Теперь важный вопрос: какая доля заявок будет участвовать в эксперименте? Ответ нетривиален.\n",
    "\n",
    "Нам нужно выбрать столько, чтобы нам было достаточно для получения статистически значимых выводов, при том, что сам эксперимент можно провести за относительно небольшое время. "
   ]
  },
  {
   "cell_type": "markdown",
   "metadata": {},
   "source": [
    "### Как понять, сколько нам \"достаточно\"?"
   ]
  },
  {
   "cell_type": "markdown",
   "metadata": {},
   "source": [
    "Рассмотрим пример результатов АБ-теста"
   ]
  },
  {
   "cell_type": "markdown",
   "metadata": {},
   "source": [
    "![ab_split](Data/ab2.png \"AB results example\")"
   ]
  },
  {
   "cell_type": "markdown",
   "metadata": {},
   "source": [
    "Все подробно разберем на занятии 8. \n",
    "\n",
    "Полезные ссылки:\n",
    "\n",
    "https://geekbrains.ru/events/2128\n"
   ]
  },
  {
   "cell_type": "markdown",
   "metadata": {},
   "source": [
    "### 5. Оценка результатов и вопрос интеграции"
   ]
  },
  {
   "cell_type": "markdown",
   "metadata": {},
   "source": [
    "Если будет получена статзначимость и мы успешно пройдем этап АБ-тестирования, то можно будет перейти к этапу интеграции нашего решения в компании. \n",
    "\n",
    "Обычно для доступа к ML-модели поднимается web API, с которым можно настроить интеграцию. Это будет нашим финальным проектом. "
   ]
  },
  {
   "cell_type": "markdown",
   "metadata": {},
   "source": [
    "В рамках курса каждый этап мы будем разбирать отдельно. "
   ]
  },
  {
   "cell_type": "markdown",
   "metadata": {},
   "source": [
    "### ПЕРЕРЫВ (до 21:05 МСК)"
   ]
  },
  {
   "cell_type": "markdown",
   "metadata": {},
   "source": [
    "## Вернемся к практике"
   ]
  },
  {
   "cell_type": "code",
   "execution_count": 43,
   "metadata": {},
   "outputs": [],
   "source": [
    "import pandas as pd\n",
    "import numpy as np\n",
    "from sklearn.pipeline import Pipeline, make_pipeline\n",
    "from sklearn.base import BaseEstimator, TransformerMixin\n",
    "from sklearn.linear_model import LogisticRegression\n",
    "from sklearn.model_selection import train_test_split\n",
    "from sklearn.feature_extraction.text import TfidfVectorizer\n",
    "import itertools\n",
    "\n",
    "import matplotlib.pyplot as plt\n",
    "\n",
    "%matplotlib inline"
   ]
  },
  {
   "cell_type": "code",
   "execution_count": 44,
   "metadata": {},
   "outputs": [
    {
     "data": {
      "text/html": [
       "<div>\n",
       "<style scoped>\n",
       "    .dataframe tbody tr th:only-of-type {\n",
       "        vertical-align: middle;\n",
       "    }\n",
       "\n",
       "    .dataframe tbody tr th {\n",
       "        vertical-align: top;\n",
       "    }\n",
       "\n",
       "    .dataframe thead th {\n",
       "        text-align: right;\n",
       "    }\n",
       "</style>\n",
       "<table border=\"1\" class=\"dataframe\">\n",
       "  <thead>\n",
       "    <tr style=\"text-align: right;\">\n",
       "      <th></th>\n",
       "      <th>Title</th>\n",
       "      <th>Resolution</th>\n",
       "      <th>class</th>\n",
       "      <th>category</th>\n",
       "    </tr>\n",
       "  </thead>\n",
       "  <tbody>\n",
       "    <tr>\n",
       "      <th>0</th>\n",
       "      <td>Need Ethernet access</td>\n",
       "      <td>Please connect the LAN cable to the red port o...</td>\n",
       "      <td>41</td>\n",
       "      <td>1</td>\n",
       "    </tr>\n",
       "    <tr>\n",
       "      <th>1</th>\n",
       "      <td>Create new account and share the username and ...</td>\n",
       "      <td>Go to URL : accountsetup.com, Enter personal d...</td>\n",
       "      <td>35</td>\n",
       "      <td>0</td>\n",
       "    </tr>\n",
       "    <tr>\n",
       "      <th>2</th>\n",
       "      <td>FW: Myspace Login Issue-- Ania</td>\n",
       "      <td>Go to URL : password.reset.com, Enter you logi...</td>\n",
       "      <td>36</td>\n",
       "      <td>0</td>\n",
       "    </tr>\n",
       "  </tbody>\n",
       "</table>\n",
       "</div>"
      ],
      "text/plain": [
       "                                               Title  \\\n",
       "0                               Need Ethernet access   \n",
       "1  Create new account and share the username and ...   \n",
       "2                     FW: Myspace Login Issue-- Ania   \n",
       "\n",
       "                                          Resolution  class  category  \n",
       "0  Please connect the LAN cable to the red port o...     41         1  \n",
       "1  Go to URL : accountsetup.com, Enter personal d...     35         0  \n",
       "2  Go to URL : password.reset.com, Enter you logi...     36         0  "
      ]
     },
     "execution_count": 44,
     "metadata": {},
     "output_type": "execute_result"
    }
   ],
   "source": [
    "df = pd.read_csv(\"support_data.csv\").drop('Unnamed: 0', 1)\n",
    "df.head(3)"
   ]
  },
  {
   "cell_type": "markdown",
   "metadata": {},
   "source": [
    "Посмотрим на распределение классов:"
   ]
  },
  {
   "cell_type": "code",
   "execution_count": 45,
   "metadata": {},
   "outputs": [
    {
     "data": {
      "text/plain": [
       "0    125\n",
       "1     25\n",
       "Name: category, dtype: int64"
      ]
     },
     "execution_count": 45,
     "metadata": {},
     "output_type": "execute_result"
    }
   ],
   "source": [
    "df['category'].value_counts()"
   ]
  },
  {
   "cell_type": "markdown",
   "metadata": {},
   "source": [
    "В качестве поля для генерации признаков будем использовать Title. Сразу же будем работать с использованием sklearn pipeline"
   ]
  },
  {
   "cell_type": "code",
   "execution_count": 46,
   "metadata": {},
   "outputs": [],
   "source": [
    "#разделим данные на train/test\n",
    "X_train, X_test, y_train, y_test = train_test_split(df, df['category'], random_state=0)"
   ]
  },
  {
   "cell_type": "code",
   "execution_count": 47,
   "metadata": {},
   "outputs": [],
   "source": [
    "#соберем наш простой pipeline, но нам понадобится написать класс для выбора нужного поля\n",
    "class FeatureSelector(BaseEstimator, TransformerMixin):\n",
    "    def __init__(self, column):\n",
    "        self.column = column\n",
    "\n",
    "    def fit(self, X, y=None):\n",
    "        return self\n",
    "\n",
    "    def transform(self, X, y=None):\n",
    "        return X[self.column]\n",
    "\n",
    "pipeline = Pipeline([('title_selector', FeatureSelector(column='Title')), \n",
    "                     ('title_tfidf', TfidfVectorizer()), \n",
    "                     ('clf', LogisticRegression())])"
   ]
  },
  {
   "cell_type": "markdown",
   "metadata": {},
   "source": [
    "Что есть что"
   ]
  },
  {
   "cell_type": "markdown",
   "metadata": {},
   "source": [
    "- FeatureSelector - выбирает столбец Title и передает его значения на следующий шаг\n",
    "- TfidfVectorizer - векторизует текст (поле Title)\n",
    "- LogisticRegression - наш бинарный классификатор, который обучается на результатах предыдущих шагов и разметке (их мы передадим уже при обучении)"
   ]
  },
  {
   "cell_type": "markdown",
   "metadata": {},
   "source": [
    "### tfidf (если кто-то забыл)"
   ]
  },
  {
   "cell_type": "markdown",
   "metadata": {},
   "source": [
    "![ab_split](Data/tfidf.png \"TFIDF\")"
   ]
  },
  {
   "cell_type": "code",
   "execution_count": 48,
   "metadata": {},
   "outputs": [
    {
     "data": {
      "text/plain": [
       "Pipeline(steps=[('title_selector', FeatureSelector(column='Title')),\n",
       "                ('title_tfidf', TfidfVectorizer()),\n",
       "                ('clf', LogisticRegression())])"
      ]
     },
     "execution_count": 48,
     "metadata": {},
     "output_type": "execute_result"
    }
   ],
   "source": [
    "#обучим наш пайплайн\n",
    "pipeline.fit(X_train, y_train)"
   ]
  },
  {
   "cell_type": "code",
   "execution_count": 49,
   "metadata": {},
   "outputs": [
    {
     "data": {
      "text/plain": [
       "array([0.08918988, 0.07568621, 0.23507727, 0.16353486, 0.23125079,\n",
       "       0.08734735, 0.0901742 , 0.08453511, 0.28304286, 0.09788745])"
      ]
     },
     "execution_count": 49,
     "metadata": {},
     "output_type": "execute_result"
    }
   ],
   "source": [
    "#наши прогнозы для тестовой выборки\n",
    "preds = pipeline.predict_proba(X_test)[:, 1]\n",
    "preds[:10]"
   ]
  },
  {
   "cell_type": "markdown",
   "metadata": {},
   "source": [
    "Мы получили вероятности (кстати, не факт - нужно проверять), но давайте посмотрим на метрики"
   ]
  },
  {
   "cell_type": "markdown",
   "metadata": {},
   "source": [
    "Также нам нужно от вероятностей перейти к меткам классов. Для этого нужно подобрать порог, после которого мы считаем, что объект можно отнести к классу 1 (если вероятность больше порога - размечаем объект как класс 1, если нет - класс 0)"
   ]
  },
  {
   "cell_type": "code",
   "execution_count": 1,
   "metadata": {},
   "outputs": [],
   "source": [
    "from sklearn.metrics import f1_score, roc_auc_score, precision_score, classification_report, precision_recall_curve, confusion_matrix"
   ]
  },
  {
   "cell_type": "markdown",
   "metadata": {},
   "source": [
    "### Рассчитаем Precision, Recall, F_score"
   ]
  },
  {
   "cell_type": "code",
   "execution_count": 51,
   "metadata": {},
   "outputs": [],
   "source": [
    "precision, recall, thresholds = precision_recall_curve(y_test, preds)"
   ]
  },
  {
   "cell_type": "code",
   "execution_count": 72,
   "metadata": {},
   "outputs": [
    {
     "name": "stdout",
     "output_type": "stream",
     "text": [
      "Best Threshold=0.214648, F-Score=0.960, Precision=0.923, Recall=1.000\n"
     ]
    }
   ],
   "source": [
    "fscore = (2 * precision * recall) / (precision + recall)\n",
    "# locate the index of the largest f score\n",
    "ix = np.argmax(fscore)\n",
    "print('Best Threshold=%f, F-Score=%.3f, Precision=%.3f, Recall=%.3f' % (thresholds[ix], \n",
    "                                                                        fscore[ix],\n",
    "                                                                        precision[ix],\n",
    "                                                                        recall[ix]))"
   ]
  },
  {
   "cell_type": "markdown",
   "metadata": {},
   "source": [
    "Как это интерпретировать?"
   ]
  },
  {
   "cell_type": "markdown",
   "metadata": {},
   "source": [
    "Допустим, что у нас в тесте 1000 заявок. Из них класс 1 - 200\n",
    "\n",
    "Мы обучили модель, сделали прогноз, посчитали порог и выше этого порога у нас 100 заявок.\n",
    "\n",
    "\n",
    "При этом оказывается, что среди этих 100 заявок - 80 действительно класс 1. "
   ]
  },
  {
   "cell_type": "markdown",
   "metadata": {},
   "source": [
    "TP = 80, FP = 20, TN = 780, FN = 120"
   ]
  },
  {
   "cell_type": "markdown",
   "metadata": {},
   "source": [
    "Precision = TP/(TP+FP) = 80/(80+20) = 0.8\n",
    "\n",
    "Recall = TP/(TP+FN) = 80/(80+120) = 0.4"
   ]
  },
  {
   "cell_type": "markdown",
   "metadata": {},
   "source": [
    "#### Вопрос 1: объясните своими словами смысл метрик Precison, Recall *\n",
    "1. Какова их взаимосвязь и как с ними связан порог вероятности? \n",
    "2. Можно ли подобрать порог так, что recall будет равен 1? Что при этом будет с precision\n",
    "3. Аналогичный вопрос про precision\n",
    "\n",
    "\n",
    "\n",
    "* Можно вернуться к этому вопросу после освоения материала из следующего раздела"
   ]
  },
  {
   "cell_type": "markdown",
   "metadata": {},
   "source": [
    "Ваш ответ здесь:"
   ]
  },
  {
   "cell_type": "markdown",
   "metadata": {},
   "source": [
    "### Вспоминаем базовые DS-метрики классификации"
   ]
  },
  {
   "cell_type": "markdown",
   "metadata": {},
   "source": [
    "Матрица ошибок классификации"
   ]
  },
  {
   "cell_type": "markdown",
   "metadata": {},
   "source": [
    "![confusion_matrix](Data/error_matrix.png \"confusion matrix\")"
   ]
  },
  {
   "cell_type": "markdown",
   "metadata": {},
   "source": [
    "Отрисуем матрицу ошибок для нашего примера"
   ]
  },
  {
   "cell_type": "code",
   "execution_count": 53,
   "metadata": {},
   "outputs": [],
   "source": [
    "def plot_confusion_matrix(cm, classes,\n",
    "                          normalize=False,\n",
    "                          title='Confusion matrix',\n",
    "                          cmap=plt.cm.Blues):\n",
    "    \"\"\"\n",
    "    This function prints and plots the confusion matrix.\n",
    "    Normalization can be applied by setting `normalize=True`.\n",
    "    \"\"\"\n",
    "    plt.imshow(cm, interpolation='nearest', cmap=cmap)\n",
    "    plt.title(title)\n",
    "    plt.colorbar()\n",
    "    tick_marks = np.arange(len(classes))\n",
    "    plt.xticks(tick_marks, classes, rotation=45)\n",
    "    plt.yticks(tick_marks, classes)\n",
    "\n",
    "    if normalize:\n",
    "        cm = cm.astype('float') / cm.sum(axis=1)[:, np.newaxis]\n",
    "        print(\"Normalized confusion matrix\")\n",
    "    else:\n",
    "        print('Confusion matrix, without normalization')\n",
    "\n",
    "    print(cm)\n",
    "\n",
    "    thresh = cm.max() / 2.\n",
    "    for i, j in itertools.product(range(cm.shape[0]), range(cm.shape[1])):\n",
    "        plt.text(j, i, cm[i, j],\n",
    "                 horizontalalignment=\"center\",\n",
    "                 color=\"white\" if cm[i, j] > thresh else \"black\")\n",
    "\n",
    "    plt.tight_layout()\n",
    "    plt.ylabel('True label')\n",
    "    plt.xlabel('Predicted label')"
   ]
  },
  {
   "cell_type": "code",
   "execution_count": 74,
   "metadata": {},
   "outputs": [
    {
     "name": "stdout",
     "output_type": "stream",
     "text": [
      "Confusion matrix, without normalization\n",
      "[[25  1]\n",
      " [ 2 10]]\n"
     ]
    },
    {
     "data": {
      "image/png": "[encoded data removed]",
      "text/plain": [
       "<Figure size 720x576 with 2 Axes>"
      ]
     },
     "metadata": {
      "needs_background": "light"
     },
     "output_type": "display_data"
    }
   ],
   "source": [
    "#мы уже нашли ранее \"оптимальный\" порог, когда максимизировали f_score\n",
    "font = {'size' : 15}\n",
    "\n",
    "plt.rc('font', **font)\n",
    "\n",
    "cnf_matrix = confusion_matrix(y_test, preds>thresholds[ix])\n",
    "plt.figure(figsize=(10, 8))\n",
    "plot_confusion_matrix(cnf_matrix, classes=['Non-network', 'Network'],\n",
    "                      title='Confusion matrix')\n",
    "plt.savefig(\"conf_matrix.png\")\n",
    "plt.show()"
   ]
  },
  {
   "cell_type": "markdown",
   "metadata": {},
   "source": [
    "доля неверно классифицированных объектов класса 1 (Network) - 0.091 (1/11). Это меньше заявленных 0.1 (в гипотезе). Для класса 0 ошибка - 0.07. \n",
    "\n",
    "Общая же ошибка получилась 0.079."
   ]
  },
  {
   "cell_type": "markdown",
   "metadata": {},
   "source": [
    "#### Вопрос 2: Как вы думаете, что бы нам пришлось делать, если бы модель ошибалась бы чаще?"
   ]
  },
  {
   "cell_type": "markdown",
   "metadata": {},
   "source": [
    "Ваш ответ:\n"
   ]
  },
  {
   "cell_type": "markdown",
   "metadata": {},
   "source": [
    "#### Примечание\n",
    "\n",
    "Конечно же наш пример выше - игрушечный и в реальности такого набора данных будет вряд ли достаточно для каких-либо выводов. Однако такая ситуация с нехваткой данных может быть, но это другая проблема. "
   ]
  },
  {
   "cell_type": "markdown",
   "metadata": {},
   "source": [
    "### Выводы по этапу ML-решения"
   ]
  },
  {
   "cell_type": "markdown",
   "metadata": {},
   "source": [
    "Итак, что же мы сделали на данный момент:\n",
    "\n",
    "1. обдумали проблему \n",
    "2. сформулировали так называемую продуктовую гипотезу, в которой определили:\n",
    "   - какую именно задачу мы решаем (классификация заявок по содержимому)\n",
    "   - какая у нас метрика качества (доля верно классифицированных заявок)\n",
    "   - условия (что ошибка не превышает 10 процентов)\n",
    "3. собрали датасет и обучили модель\n",
    "4. проинтерпретировали результаты моделирования и пришли к выводу, что с такой модели можно начать тестирование\n",
    "\n",
    "Что мы еще <b>не</b> сделали:\n",
    "1. НЕ спланировали эксперимент (аб-тестирование)\n",
    "2. НЕ продумали интеграцию"
   ]
  },
  {
   "cell_type": "markdown",
   "metadata": {},
   "source": [
    "Но мы ко всему этому придем постепенно в рамках курса."
   ]
  },
  {
   "cell_type": "markdown",
   "metadata": {},
   "source": [
    "### Что стоит знать для комфортного прохождения курса (минимум)"
   ]
  },
  {
   "cell_type": "markdown",
   "metadata": {},
   "source": [
    "1. \"базовый\" ML\n",
    "2. основы статистики и теории вероятностей\n",
    "3. python на базовом уровне"
   ]
  },
  {
   "cell_type": "markdown",
   "metadata": {},
   "source": [
    "#### Более детально:"
   ]
  },
  {
   "cell_type": "markdown",
   "metadata": {},
   "source": [
    "Необходимые навыки и знания для успешного прохождения курса:\n",
    "1. Машинное обучение на среднем уровне (понятна разница между задачами регрессии и классификации, знаете что такое кроссвалидация, понимаете метрики качества вроде rocauc, recall, logloss, etc). \n",
    "2. Python. Здесь понадобится не только знание синтаксиса языка, но и желательно, навыки работы с прикладными пакетами вроде sklearn, pandas, numpy, matplotlib (на уроках конечно же будем все разбирать, но будет намного легче, если есть опыт)\n",
    "3. Python. Навыки работы со средствами установки пакетов: pip, Conda. А также (желательно) умение работать с virtualenv и понимание в целом про то как работать с разными окружениями python на одном сервере.\n",
    "4. ООП. Умение не просто писать код на питоне в «процедурном» стиле, а способность завернуть все это в удобные классы и функции будет очень полезным.\n",
    "\n",
    "Ссылки:\n",
    "\n",
    "1. https://scikit-learn.org/stable/user_guide.html\n",
    "2. https://pandas.pydata.org/docs/user_guide/index.html\n",
    "3. https://docs.conda.io/en/latest/"
   ]
  },
  {
   "cell_type": "markdown",
   "metadata": {},
   "source": [
    "### По инструментам *"
   ]
  },
  {
   "cell_type": "markdown",
   "metadata": {},
   "source": [
    "1. IDE - pycharm\n",
    "2. github (tutorial - https://guides.github.com/activities/hello-world/)\n",
    "3. jupyter notebook\n",
    "4. virtualenv/pip/conda (последнее - проще всего установить и настроить)\n",
    "\n",
    "Ссылки:\n",
    "\n",
    "1. https://virtualenv.pypa.io/en/latest/"
   ]
  },
  {
   "cell_type": "markdown",
   "metadata": {},
   "source": [
    "*- здесь полная свобода выбора"
   ]
  },
  {
   "cell_type": "markdown",
   "metadata": {},
   "source": [
    "### Домашнее задание 1 (теоретическая часть)"
   ]
  },
  {
   "cell_type": "markdown",
   "metadata": {},
   "source": [
    "Здесь предлагается то, что полезно знать и уметь для успешного прохождения курса (да и без курса полезно)\n",
    "\n",
    "ML: \n",
    "1. вспомнить базовые алгоритмы машинного обучения: линейные модели, \"деревянные\"\n",
    "2. повторить метрики качества в задачах классификации/регрессии. (например, понимать что такое roc auc и как его интерпретировать и т.д)\n",
    "3. вспомнить из каких этапов состоит решение ML-задачи и уметь объяснить каждый из этапов: подготовка данных, feature engineering, modelling, evaluation, etc\n",
    "4. кроссвалидация\n",
    "\n",
    "Теория вероятностей и статистика:\n",
    "1. Генеральная совокупность и выборка\n",
    "2. Базовые статистики: среднее, медиана, дисперсия\n",
    "3. Распределения: нормальное, бернулли, пуассона и т.д\n",
    "4. Нулевая и альтернативная гипотезы\n",
    "5. статистические тесты\n",
    "\n",
    "Python:\n",
    "1. структуры данных: set, list, dict, tuple, etc\n",
    "2. циклы, условия\n",
    "3. numpy/pandas/sklearn"
   ]
  },
  {
   "cell_type": "markdown",
   "metadata": {},
   "source": [
    "### Полезные ссылки\n",
    "\n",
    "1. метрики качества - https://habr.com/ru/company/ods/blog/328372/\n",
    "2. roc auc - https://dyakonov.org/2017/07/28/auc-roc-площадь-под-кривой-ошибок/\n",
    "3. Основы статистики: просто о сложных формулах - https://habr.com/ru/company/stepic/blog/250527/\n",
    "4. Теория вероятностей в работе программиста (вебинар) - https://geekbrains.ru/events/129\n",
    "5. Туториал по машинному обучению (sklearn) - https://scikit-learn.org/stable/tutorial/basic/tutorial.html\n",
    "6. Туториал по github - https://guides.github.com/activities/hello-world/"
   ]
  },
  {
   "cell_type": "markdown",
   "metadata": {},
   "source": [
    "### Домашнее задание 2 (практическая часть)"
   ]
  },
  {
   "cell_type": "markdown",
   "metadata": {},
   "source": [
    "Ноутбук HW1.ipynb (есть в директории занятия)\n",
    "\n",
    "\n",
    "Нужные пакеты и библиотеки:\n",
    "- plotly\n",
    "- imblearn\n",
    "- yellowbrick"
   ]
  }
 ],
 "metadata": {
  "kernelspec": {
   "display_name": "Python 3",
   "language": "python",
   "name": "python3"
  },
  "language_info": {
   "codemirror_mode": {
    "name": "ipython",
    "version": 3
   },
   "file_extension": ".py",
   "mimetype": "text/x-python",
   "name": "python",
   "nbconvert_exporter": "python",
   "pygments_lexer": "ipython3",
   "version": "3.8.3"
  },
  "toc": {
   "base_numbering": 1,
   "nav_menu": {},
   "number_sections": true,
   "sideBar": true,
   "skip_h1_title": false,
   "title_cell": "Table of Contents",
   "title_sidebar": "Contents",
   "toc_cell": true,
   "toc_position": {},
   "toc_section_display": true,
   "toc_window_display": true
  }
 },
 "nbformat": 4,
 "nbformat_minor": 2
}
